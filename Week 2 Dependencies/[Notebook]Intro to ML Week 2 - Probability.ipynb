{
 "cells": [
  {
   "cell_type": "markdown",
   "id": "6d67e973",
   "metadata": {},
   "source": [
    "# Probability Sheet\n"
   ]
  },
  {
   "cell_type": "markdown",
   "id": "ec6a7241",
   "metadata": {},
   "source": [
    "## Creating a Set "
   ]
  },
  {
   "cell_type": "code",
   "execution_count": null,
   "id": "fc848bd0",
   "metadata": {},
   "outputs": [],
   "source": [
    "# Creating a set with curly braces\n",
    "\n",
    "Set = {1,2}\n",
    "print(Set)\n",
    "print(type(Set))"
   ]
  },
  {
   "cell_type": "markdown",
   "id": "087a465b",
   "metadata": {},
   "source": [
    "## Converting a List into a Set\n"
   ]
  },
  {
   "cell_type": "code",
   "execution_count": null,
   "id": "83028e48",
   "metadata": {},
   "outputs": [],
   "source": [
    "# Converting a list into a set\n",
    "\n",
    "my_list=[5,6,7,8,9]\n",
    "my_set_from_list = set(my_list)\n",
    "print(my_set_from_list)"
   ]
  },
  {
   "cell_type": "markdown",
   "id": "be694fe1",
   "metadata": {},
   "source": [
    "## Check for Conditions"
   ]
  },
  {
   "cell_type": "code",
   "execution_count": null,
   "id": "9dc2d460",
   "metadata": {},
   "outputs": [],
   "source": [
    "my_set = set([10,11,12])\n",
    "print(\"Input set: \", my_set)\n",
    "print(\"10 is in the set: \", 3 in my_set)\n",
    "print(\"15 is in the set: \", 15 in my_set)"
   ]
  },
  {
   "cell_type": "markdown",
   "id": "e5646d83",
   "metadata": {},
   "source": [
    "## Scenario:\n",
    "Sam and John are playing Dice Game. Sam very eager to find out What is the true probability of rolling a multiple of 2 with two 6-sided dice? "
   ]
  },
  {
   "cell_type": "markdown",
   "id": "2d3c8aad",
   "metadata": {},
   "source": [
    "### Finding all Possible Outcomes"
   ]
  },
  {
   "cell_type": "code",
   "execution_count": null,
   "id": "2402ba78",
   "metadata": {},
   "outputs": [],
   "source": [
    "from itertools import product as prod # importing the product tool that will build a Cartesian product out of two iterables.\n",
    "Dice1 = set([s for s in range(1,7)]) \n",
    "Dice2 = set([s for s in range(1,7)])\n",
    "\n",
    "possible_outcomes = list(prod(Dice1,Dice2))\n",
    "\n",
    "print(\"Dice1 is set of all possible outcomes of first Dice\", Dice1)\n",
    "print(\"Dice2 is set of all possible outcomes of second Dice\", Dice2)\n",
    "print(\"\\n Possible outcomes of both dice thrown together\", possible_outcomes) # Set of all Possible outcomes "
   ]
  },
  {
   "cell_type": "markdown",
   "id": "ddd71b10",
   "metadata": {},
   "source": [
    "### Constructing Event Space"
   ]
  },
  {
   "cell_type": "code",
   "execution_count": null,
   "id": "78d8454c",
   "metadata": {},
   "outputs": [],
   "source": [
    "# Considering 2 dice \n",
    "\n",
    "n_dice = 2\n",
    "dice_faces = {1,2,3,4,5,6} # Possible Dice Faces\n",
    "\n",
    "# Constructing Event Space\n",
    "event_space = set(prod(dice_faces, repeat = n_dice))\n",
    "event_space"
   ]
  },
  {
   "cell_type": "markdown",
   "id": "c1954a4e",
   "metadata": {},
   "source": [
    "### Calculating the length of Event Space"
   ]
  },
  {
   "cell_type": "code",
   "execution_count": null,
   "id": "269b5239",
   "metadata": {},
   "outputs": [],
   "source": [
    "print(len(event_space)) # Total possible outcomes "
   ]
  },
  {
   "cell_type": "markdown",
   "id": "439b18d4",
   "metadata": {},
   "source": [
    "### Finding out all possible outcomes, multiple of 2"
   ]
  },
  {
   "cell_type": "code",
   "execution_count": null,
   "id": "b4a27eec",
   "metadata": {},
   "outputs": [],
   "source": [
    "# Sum is a multiple of 2\n",
    "\n",
    "favourable_outcome = []\n",
    "for outcome in event_space:\n",
    "    x,y = outcome\n",
    "    if(x + y)%2 ==0:\n",
    "        favourable_outcome.append(outcome)\n",
    "favourable_outcome = set(favourable_outcome)\n",
    "favourable_outcome"
   ]
  },
  {
   "cell_type": "code",
   "execution_count": null,
   "id": "336609a7",
   "metadata": {},
   "outputs": [],
   "source": [
    "# to print in series.... find right term\n",
    "for i in favourable_outcome:\n",
    "    print(i, end = ',')\n",
    "print()"
   ]
  },
  {
   "cell_type": "markdown",
   "id": "111541e2",
   "metadata": {},
   "source": [
    "### Total number of desired outcomes"
   ]
  },
  {
   "cell_type": "code",
   "execution_count": null,
   "id": "8b2e30fd",
   "metadata": {},
   "outputs": [],
   "source": [
    "# To print total possible combinations\n",
    "print(len(favourable_outcome))"
   ]
  },
  {
   "cell_type": "markdown",
   "id": "134bc312",
   "metadata": {},
   "source": [
    "### Calculating Probability"
   ]
  },
  {
   "cell_type": "code",
   "execution_count": null,
   "id": "9e28ddd8",
   "metadata": {},
   "outputs": [],
   "source": [
    "# Computing Probability of rolling a sum of 2 with 2 six faced dice.\n",
    "probability = len(favourable_outcome)/len(event_space)\n",
    "print(\"The probability of getting a sum which is multiple of 2 is: \", probability)"
   ]
  },
  {
   "cell_type": "markdown",
   "id": "578c4236",
   "metadata": {},
   "source": [
    "## Task"
   ]
  },
  {
   "cell_type": "markdown",
   "id": "c678d54c",
   "metadata": {},
   "source": [
    "**Try with 4 diece**"
   ]
  },
  {
   "cell_type": "code",
   "execution_count": null,
   "id": "0b62e13d",
   "metadata": {},
   "outputs": [],
   "source": [
    "#\n",
    "\n",
    "\n",
    "\n",
    "# Construct the event space i.e., set of all possible outcomes \n",
    "\n",
    "\n"
   ]
  },
  {
   "cell_type": "code",
   "execution_count": null,
   "id": "84fb9dc4",
   "metadata": {},
   "outputs": [],
   "source": [
    "# Print the length of event space\n",
    "\n"
   ]
  },
  {
   "cell_type": "code",
   "execution_count": null,
   "id": "77446cc7",
   "metadata": {},
   "outputs": [],
   "source": [
    "# Print the possible outcomes which is a multiple of 2 but not a multiple of 3\n",
    "\n"
   ]
  },
  {
   "cell_type": "code",
   "execution_count": null,
   "id": "b3f41077",
   "metadata": {},
   "outputs": [],
   "source": [
    "# Print the probability of getting a sum which is a multiple of 2 but not a multiple of 3\n"
   ]
  }
 ],
 "metadata": {
  "kernelspec": {
   "display_name": "Python 3",
   "language": "python",
   "name": "python3"
  },
  "language_info": {
   "codemirror_mode": {
    "name": "ipython",
    "version": 3
   },
   "file_extension": ".py",
   "mimetype": "text/x-python",
   "name": "python",
   "nbconvert_exporter": "python",
   "pygments_lexer": "ipython3",
   "version": "3.8.8"
  },
  "toc": {
   "base_numbering": 1,
   "nav_menu": {},
   "number_sections": true,
   "sideBar": true,
   "skip_h1_title": false,
   "title_cell": "Table of Contents",
   "title_sidebar": "Contents",
   "toc_cell": false,
   "toc_position": {},
   "toc_section_display": true,
   "toc_window_display": true
  }
 },
 "nbformat": 4,
 "nbformat_minor": 5
}
