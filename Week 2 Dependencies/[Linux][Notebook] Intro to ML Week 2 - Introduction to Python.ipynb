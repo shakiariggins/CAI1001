{
 "cells": [
  {
   "cell_type": "markdown",
   "metadata": {
    "colab_type": "text",
    "id": "n8k892W_QmZU"
   },
   "source": [
    "# **Getting Started with Python!**"
   ]
  },
  {
   "cell_type": "markdown",
   "metadata": {
    "colab_type": "text",
    "id": "yeT2aJTMQmZa"
   },
   "source": [
    "##  What is Python ?"
   ]
  },
  {
   "cell_type": "markdown",
   "metadata": {
    "colab_type": "text",
    "id": "4-texIqgQmZb"
   },
   "source": [
    "- Python is a popular programming language that is reliable, flexible, easy to learn, free to use on all operating systems, and supported by both a strong developer community and many free libraries (Libraries are pre-written codes that developers use to solve common programming tasks).\n",
    "\n",
    "- Python is an interpreted, object-oriented, high-level programming language with dynamic semantics.\n",
    "\n",
    "- Python supports modules and packages, which encourages program modularity and code reuse.\n",
    "\n",
    "- Python supports all manners of development, including web applications, web services, desktop apps, scripting, data science, scientific computing, and Jupyter notebooks. Python is a language used by many universities, scientists, casual developers, and professional developers alike.\n",
    "\n",
    "- Python is a **high level programming Language**. This simply means that the commands used in Python are understandable by humans. These commands are then converted into machine code by using an interpreter.\n",
    "\n",
    "You can learn more about the language on [python.org](https://www.python.org/) and [Python for Beginners](https://www.python.org/about/gettingstarted/)."
   ]
  },
  {
   "cell_type": "markdown",
   "metadata": {
    "colab_type": "text",
    "id": "wRAKwUmeQmZd"
   },
   "source": [
    "##  Why use Python for learning AI ?"
   ]
  },
  {
   "cell_type": "markdown",
   "metadata": {
    "colab_type": "text",
    "id": "GFwO5zg6QmZe"
   },
   "source": [
    "***Python is more often than not the top most choice for Machine Learning Applications. The main reason for this is the amount of simplicity, consistency and stability Python code can bring to AI workflows.*** \n",
    "\n",
    "The simplest of AI workflows require extensive mathematical functions running in the background. The wide variety of stable and user friendly **libraries** like:\n",
    "- Scikit-Learn (used for handling basic Machine Learning algorithms like clustering, linear and logistic regressions, etc.)\n",
    "- Matplotlib (used for creating bar charts, histograms and other data visualizations) etc provide great support for building scalable and efficient code. We shall cover more on these in the later sessions.\n",
    "\n",
    "**Another reason** why python is easy to use is that you **do not need to declare variable types** unlike other programming languages. A variable is the name you give to a value you want to store and use later.\n",
    "\n",
    "**For example**, let's say you would like to create a variable called money to store some numerical value of money, in Python you would only need to assign a value to the word 'money' to use it, in other programming languages, this requires a variable type declaration before use.\n",
    "\n",
    "Now that we have understood why we have chosen Python as our programming language, let's get started with basic commands we will come across frequently in our AI journey!"
   ]
  },
  {
   "cell_type": "markdown",
   "metadata": {},
   "source": [
    "<div class=\"alert alert-block alert-info\">\n",
    "<b>Tip:</b><br> \n",
    "- The notebook consists of a sequence of cells. <br>\n",
    "- A cell is a multiline text input field, and its contents can be executed by using Shift - Enter , or by clicking either the “Play” button the toolbar, or Cell, Run in the menu bar. <br>\n",
    "- The execution behavior of a cell is determined by the cell's type.\n",
    "</div>"
   ]
  },
  {
   "cell_type": "code",
   "execution_count": 1,
   "metadata": {},
   "outputs": [],
   "source": [
    "# 1) This box is called a Cell in a Notebook environment."
   ]
  },
  {
   "cell_type": "markdown",
   "metadata": {
    "colab_type": "text",
    "id": "EEKwmQIdQmZf"
   },
   "source": [
    "## Comments\n",
    "\n",
    "- Comments in Python ***start with the hash character, `#`,*** and extend to the end of the physical line.  \n",
    "- Python doesn't provide a means for creating multi-line comments, developers often just use triple quotes for this purpose. In a Jupyter notebook, however, such quotes define a string literal(anything enclosed in quotes `\"\"`) which appears as the output of a code cell\n",
    "- For this reason, it's best in notebooks to use the # comment character at the beginning of each line, or better still, just use a Markdown cell!\n",
    "\n",
    "\"\"\" \n",
    "\n",
    "Comment Line 1\n",
    "\n",
    "Comment Line 2\n",
    "\n",
    "\"\"\""
   ]
  },
  {
   "cell_type": "code",
   "execution_count": 2,
   "metadata": {
    "colab": {},
    "colab_type": "code",
    "id": "JmE6SFGxQmZh"
   },
   "outputs": [
    {
     "name": "stdout",
     "output_type": "stream",
     "text": [
      "Hi welcome to your first Python Program!\n"
     ]
    }
   ],
   "source": [
    "# This is the first comment\n",
    "number = 1   # and this is the second comment\n",
    "            # ... and now a third!\n",
    "'#Meanwhile, this is not a comment'\n",
    "\n",
    "Welcome = \"Hi welcome to your first Python Program!\" \n",
    "print(Welcome) #This is the 'print' Command   "
   ]
  },
  {
   "cell_type": "markdown",
   "metadata": {},
   "source": [
    "## Variables\n",
    "\n",
    "- ***A Python variable is a reserved memory location to store values.***\n",
    "- The equal sign (`=`) is used for assigning values to a variable.\n",
    "- If a variable is not defined (i.e assigned a value) then using it results in an error"
   ]
  },
  {
   "cell_type": "code",
   "execution_count": 3,
   "metadata": {
    "colab": {},
    "colab_type": "code",
    "id": "pzW6Z9NqQmco"
   },
   "outputs": [
    {
     "data": {
      "text/plain": [
       "606.0"
      ]
     },
     "execution_count": 3,
     "metadata": {},
     "output_type": "execute_result"
    }
   ],
   "source": [
    "weight = 50.5 # weight is a variable which is assigned a value 50.5\n",
    "total_people =12\n",
    "weight * total_people"
   ]
  },
  {
   "cell_type": "code",
   "execution_count": 5,
   "metadata": {
    "colab": {},
    "colab_type": "code",
    "id": "de3Wfw54Qmcu"
   },
   "outputs": [
    {
     "ename": "NameError",
     "evalue": "name 'n' is not defined",
     "output_type": "error",
     "traceback": [
      "\u001b[0;31m---------------------------------------------------------------------------\u001b[0m",
      "\u001b[0;31mNameError\u001b[0m                                 Traceback (most recent call last)",
      "Input \u001b[0;32mIn [5]\u001b[0m, in \u001b[0;36m<cell line: 1>\u001b[0;34m()\u001b[0m\n\u001b[0;32m----> 1\u001b[0m \u001b[43mn\u001b[49m\n",
      "\u001b[0;31mNameError\u001b[0m: name 'n' is not defined"
     ]
    }
   ],
   "source": [
    "n # Accessing an undefined variable => results in an error"
   ]
  },
  {
   "cell_type": "markdown",
   "metadata": {
    "colab_type": "text",
    "id": "OOX51tZTQmZx"
   },
   "source": [
    "# Explore Data Types in Python!"
   ]
  },
  {
   "cell_type": "markdown",
   "metadata": {
    "colab_type": "text",
    "id": "VI45L6AYQmZy"
   },
   "source": [
    "Although we do not have to declare a type for python variables, a value does have a type. These are data types we will be covering in this Notebook:\n",
    "1. Numbers\n",
    "2. Strings\n",
    "3. Lists\n",
    "4. Tuples\n",
    "5. Dictionary"
   ]
  },
  {
   "cell_type": "code",
   "execution_count": 6,
   "metadata": {
    "colab": {},
    "colab_type": "code",
    "id": "9R9IWt5n-LL7"
   },
   "outputs": [],
   "source": [
    "x = 'hello'\n",
    "x = [\"I\", \"Love\", \"AI\"]\n",
    "x = 2.5\n",
    "x = True #Boolean type, only has true or false, think of an on-off switch\n"
   ]
  },
  {
   "cell_type": "markdown",
   "metadata": {
    "colab_type": "text",
    "id": "HjfUiFCKQmZz"
   },
   "source": [
    "## Numbers\n",
    "\n",
    "Python supports different types of Numbers:\n",
    "- int\n",
    "- float\n",
    "- Complex numbers"
   ]
  },
  {
   "cell_type": "markdown",
   "metadata": {},
   "source": [
    "**The Python interpreter can act as a simple calculator: type an expression at it outputs the value.**"
   ]
  },
  {
   "cell_type": "code",
   "execution_count": 7,
   "metadata": {},
   "outputs": [
    {
     "data": {
      "text/plain": [
       "5"
      ]
     },
     "execution_count": 7,
     "metadata": {},
     "output_type": "execute_result"
    }
   ],
   "source": [
    "# Python interpreter acts as a simple calculator\n",
    "2 + 3"
   ]
  },
  {
   "cell_type": "markdown",
   "metadata": {},
   "source": [
    "<div class=\"alert alert-block alert-warning\">\n",
    "<b>Task:</b> Execute the code by uncommenting each line one by one and observe the output.\n",
    "</div>"
   ]
  },
  {
   "cell_type": "code",
   "execution_count": 8,
   "metadata": {},
   "outputs": [],
   "source": [
    "# Uncomment one by one, execute and observe the code\n",
    "# 5 - 3\n",
    "# 4 * 6\n",
    "# 9/3\n",
    "# (4 + 5)*9"
   ]
  },
  {
   "cell_type": "markdown",
   "metadata": {},
   "source": [
    "<div class=\"alert alert-block alert-info\">\n",
    "<b>Observation:</b><br> \n",
    "- Expression syntax is straightforward: the operators +, -, * and / work just like in most other programming languages (such as Pascal or C); <br>\n",
    "- Parentheses (()) can be used for grouping and order or precedence.\n",
    "</div>"
   ]
  },
  {
   "cell_type": "markdown",
   "metadata": {},
   "source": [
    "**Variables of numeric types are created when you assign a value to them**"
   ]
  },
  {
   "cell_type": "code",
   "execution_count": 9,
   "metadata": {},
   "outputs": [],
   "source": [
    "# Variables of numeric types are created when you assign a value to them:\n",
    "number1 = 4\n",
    "number2 = 4.0\n",
    "number3 = 2 + 3j"
   ]
  },
  {
   "cell_type": "markdown",
   "metadata": {},
   "source": [
    "**type() is used to check Datatype of the variable**"
   ]
  },
  {
   "cell_type": "code",
   "execution_count": 10,
   "metadata": {
    "colab": {},
    "colab_type": "code",
    "id": "ncEg_5eRQmaO"
   },
   "outputs": [
    {
     "name": "stdout",
     "output_type": "stream",
     "text": [
      "Datatype for roll_number is <class 'int'>\n",
      "Datatype for marks is <class 'float'>\n"
     ]
    }
   ],
   "source": [
    "roll_number = 1234\n",
    "marks = 52.5\n",
    "print (\"Datatype for roll_number is\",type(roll_number))\n",
    "print (\"Datatype for marks is\",type(marks)) #Notice that we did not declare either of the variables with a particular datatype"
   ]
  },
  {
   "cell_type": "markdown",
   "metadata": {},
   "source": [
    "### Integer\n",
    "- Int, or integer, is a whole number, positive or negative, without decimals, of unlimited length."
   ]
  },
  {
   "cell_type": "code",
   "execution_count": 11,
   "metadata": {},
   "outputs": [
    {
     "data": {
      "text/plain": [
       "int"
      ]
     },
     "execution_count": 11,
     "metadata": {},
     "output_type": "execute_result"
    }
   ],
   "source": [
    "# Integer Numbers\n",
    "salary = 20000  #Assigned integer value to a variable salary\n",
    "type(salary) #type()- To check datatype of the variable, in this case integer"
   ]
  },
  {
   "cell_type": "markdown",
   "metadata": {},
   "source": [
    "### Float\n",
    "- Float, or \"floating point number\" is a number, positive or negative, containing one or more decimals."
   ]
  },
  {
   "cell_type": "markdown",
   "metadata": {},
   "source": [
    "<div class=\"alert alert-block alert-warning\">\n",
    "<b>Task:</b> <br>\n",
    "    - Assign float value to a variable \"weight\"\n",
    "    <br>- Check the datatype of the variable\n",
    "</div>"
   ]
  },
  {
   "cell_type": "code",
   "execution_count": 12,
   "metadata": {},
   "outputs": [],
   "source": [
    "# Floating Numbers\n",
    "# Assign a float value to a variable \"weight\"\n",
    "\n",
    "# Check the datatype of a variable\n"
   ]
  },
  {
   "cell_type": "markdown",
   "metadata": {},
   "source": [
    "<div class=\"alert alert-block alert-info\">\n",
    "<b>NOTE:</b><br> \n",
    "- The integer numbers (e.g. 2, 4, 20) have type int, the ones with a fractional part (e.g. 5.0, 1.6) have type float. <br>\n",
    "- The major difference is float can be used for both integers and decimals.\n",
    "</div>"
   ]
  },
  {
   "cell_type": "markdown",
   "metadata": {},
   "source": [
    "### Complex Numbers\n",
    "- Complex numbers are written with a \"j\" as the imaginary part"
   ]
  },
  {
   "cell_type": "code",
   "execution_count": 13,
   "metadata": {},
   "outputs": [
    {
     "data": {
      "text/plain": [
       "complex"
      ]
     },
     "execution_count": 13,
     "metadata": {},
     "output_type": "execute_result"
    }
   ],
   "source": [
    "# Complex Numbers\n",
    "complexnum = 8 + 9j #Assigned a complex value to variable complexnum, j or J suffix to indicate the imaginary part.\n",
    "type(complexnum)# type()- To check the datatype of a variable,in this case complex number"
   ]
  },
  {
   "cell_type": "markdown",
   "metadata": {},
   "source": [
    "**To print Real and Imaginary part of a Complex Number**\n",
    "\n",
    "**dot(.)real** - to print real part\n",
    "\n",
    "**dot(.)imag** - to print imaginary part"
   ]
  },
  {
   "cell_type": "code",
   "execution_count": 14,
   "metadata": {},
   "outputs": [
    {
     "data": {
      "text/plain": [
       "8.0"
      ]
     },
     "execution_count": 14,
     "metadata": {},
     "output_type": "execute_result"
    }
   ],
   "source": [
    "# Execute code, what do you observe?\n",
    "complexnum = 8 + 9j\n",
    "complexnum.real # Observe output"
   ]
  },
  {
   "cell_type": "markdown",
   "metadata": {},
   "source": [
    "<div class=\"alert alert-block alert-warning\">\n",
    "<b>Task:</b> <br>\n",
    "    - Write down the command to print imaginary part\n",
    "\n",
    "</div>"
   ]
  },
  {
   "cell_type": "code",
   "execution_count": 15,
   "metadata": {},
   "outputs": [],
   "source": [
    "# Try to print imaginary part\n",
    "complexnum = 8 + 9j\n",
    "# write down the command to print imaginary part\n"
   ]
  },
  {
   "cell_type": "markdown",
   "metadata": {},
   "source": [
    "### Mathematical/Arithematic Operations\n"
   ]
  },
  {
   "cell_type": "code",
   "execution_count": 16,
   "metadata": {},
   "outputs": [
    {
     "name": "stdout",
     "output_type": "stream",
     "text": [
      "51\n"
     ]
    }
   ],
   "source": [
    "# Addition Operation using variables\n",
    "num1 = 23\n",
    "num2 = 28\n",
    "total = num1 + num2 #Addition\n",
    "print(total)"
   ]
  },
  {
   "cell_type": "markdown",
   "metadata": {},
   "source": [
    "<div class=\"alert alert-block alert-info\">\n",
    "<b></b> Python automatically store the last executed expression in '_'(Single underscore)\n",
    "</div>\n",
    "</div>"
   ]
  },
  {
   "cell_type": "code",
   "execution_count": 17,
   "metadata": {},
   "outputs": [
    {
     "data": {
      "text/plain": [
       "51"
      ]
     },
     "execution_count": 17,
     "metadata": {},
     "output_type": "execute_result"
    }
   ],
   "source": [
    "# Addition Operation without using variables\n",
    "23 + 28 # Run/Execute cell, what did you observe?\n",
    "\n",
    "# Try to print _(single underscore) and observe\n"
   ]
  },
  {
   "cell_type": "markdown",
   "metadata": {},
   "source": [
    "<div class=\"alert alert-block alert-info\">\n",
    "<b>Operators:</b><br>\n",
    "/ operator - returns a float.<br>\n",
    "// operator - reurns an integer result (discarding any fractional result)floor division<br>\n",
    "% operator - returns remainder<br>** operator is used to calculate power<br>\n",
    "** has higher precedence than -; \n",
    "<br> Note: if you want a negative base, use parentheses.\n",
    "</div>"
   ]
  },
  {
   "cell_type": "code",
   "execution_count": 18,
   "metadata": {
    "colab": {},
    "colab_type": "code",
    "id": "VlqlUoPLQmbC"
   },
   "outputs": [
    {
     "name": "stdout",
     "output_type": "stream",
     "text": [
      "0.8214285714285714\n"
     ]
    }
   ],
   "source": [
    "# Division Operation\n",
    "print(num1/num2)  # Division using the '/' operator returns a float."
   ]
  },
  {
   "cell_type": "code",
   "execution_count": 19,
   "metadata": {
    "colab": {},
    "colab_type": "code",
    "id": "u1I05HgTQmbV"
   },
   "outputs": [
    {
     "name": "stdout",
     "output_type": "stream",
     "text": [
      "0\n"
     ]
    }
   ],
   "source": [
    "print(num1//num2)  # Floor division (division which uses the '//' operator) discards the fractional part."
   ]
  },
  {
   "cell_type": "code",
   "execution_count": 20,
   "metadata": {
    "colab": {},
    "colab_type": "code",
    "id": "pqUPZcDjQmbe"
   },
   "outputs": [
    {
     "name": "stdout",
     "output_type": "stream",
     "text": [
      "23\n"
     ]
    }
   ],
   "source": [
    "print(num1 % num2)  # The '%' operator returns the remainder of the division."
   ]
  },
  {
   "cell_type": "code",
   "execution_count": 21,
   "metadata": {
    "colab": {},
    "colab_type": "code",
    "id": "FeO9nbRVQmbm"
   },
   "outputs": [
    {
     "name": "stdout",
     "output_type": "stream",
     "text": [
      "144\n"
     ]
    }
   ],
   "source": [
    "# ** operator to calculate power\n",
    "print(12**2) # This will print the square of '12'"
   ]
  },
  {
   "cell_type": "code",
   "execution_count": 22,
   "metadata": {
    "colab": {},
    "colab_type": "code",
    "id": "ox8YE63kQmbs"
   },
   "outputs": [
    {
     "data": {
      "text/plain": [
       "64"
      ]
     },
     "execution_count": 22,
     "metadata": {},
     "output_type": "execute_result"
    }
   ],
   "source": [
    "2**6 # This will print 2 to the power 6"
   ]
  },
  {
   "cell_type": "code",
   "execution_count": 23,
   "metadata": {
    "colab": {},
    "colab_type": "code",
    "id": "JmtzPfPmQmcE"
   },
   "outputs": [
    {
     "data": {
      "text/plain": [
       "-16"
      ]
     },
     "execution_count": 23,
     "metadata": {},
     "output_type": "execute_result"
    }
   ],
   "source": [
    "#`**` has higher precedence than `-`; if you want a negative base, use parentheses\n",
    "-4**2 #Result will be same as -(4**2)"
   ]
  },
  {
   "cell_type": "code",
   "execution_count": 24,
   "metadata": {
    "colab": {},
    "colab_type": "code",
    "id": "iJdjBRebQmcd"
   },
   "outputs": [
    {
     "data": {
      "text/plain": [
       "16"
      ]
     },
     "execution_count": 24,
     "metadata": {},
     "output_type": "execute_result"
    }
   ],
   "source": [
    "(-4)**2 "
   ]
  },
  {
   "cell_type": "markdown",
   "metadata": {
    "colab_type": "text",
    "id": "K46jXA1pQmc5"
   },
   "source": [
    "## Strings"
   ]
  },
  {
   "cell_type": "markdown",
   "metadata": {
    "colab_type": "text",
    "id": "VH8yiVFWQmc6"
   },
   "source": [
    "- Strings are a sequence of characters. \n",
    "- Besides numbers, Python can also manipulate strings. \n",
    "- Strings can enclosed in single quotes `'...'` or double quotes `\"...\"` with the same result. \n",
    "- Use \\ to escape quotes, that is, to use the `'` within the string itself"
   ]
  },
  {
   "cell_type": "code",
   "execution_count": 25,
   "metadata": {
    "colab": {},
    "colab_type": "code",
    "id": "p21soIQ6Qmc7"
   },
   "outputs": [
    {
     "data": {
      "text/plain": [
       "str"
      ]
     },
     "execution_count": 25,
     "metadata": {},
     "output_type": "execute_result"
    }
   ],
   "source": [
    "string=\"What skills have you learnt today ?\"\n",
    "type(string)"
   ]
  },
  {
   "cell_type": "code",
   "execution_count": 26,
   "metadata": {
    "colab": {},
    "colab_type": "code",
    "id": "wIFSo6hrQmdF"
   },
   "outputs": [
    {
     "data": {
      "text/plain": [
       "'Learn Python for AI'"
      ]
     },
     "execution_count": 26,
     "metadata": {},
     "output_type": "execute_result"
    }
   ],
   "source": [
    "'Learn Python for AI' # Using Single Quotes"
   ]
  },
  {
   "cell_type": "code",
   "execution_count": 27,
   "metadata": {
    "colab": {},
    "colab_type": "code",
    "id": "-DhlIYYiQmdT"
   },
   "outputs": [
    {
     "data": {
      "text/plain": [
       "\"Isn't this fun?\""
      ]
     },
     "execution_count": 27,
     "metadata": {},
     "output_type": "execute_result"
    }
   ],
   "source": [
    "'Isn\\'t this fun?' # The backslash \\ here is to denote that you would like to use the ' symbol in a string rather than ending it"
   ]
  },
  {
   "cell_type": "code",
   "execution_count": 28,
   "metadata": {},
   "outputs": [
    {
     "ename": "SyntaxError",
     "evalue": "unterminated string literal (detected at line 2) (2085315062.py, line 2)",
     "output_type": "error",
     "traceback": [
      "\u001b[0;36m  Input \u001b[0;32mIn [28]\u001b[0;36m\u001b[0m\n\u001b[0;31m    'Isn't this fun?'\u001b[0m\n\u001b[0m                    ^\u001b[0m\n\u001b[0;31mSyntaxError\u001b[0m\u001b[0;31m:\u001b[0m unterminated string literal (detected at line 2)\n"
     ]
    }
   ],
   "source": [
    "# This is what happens otherwise, an error will be produced as the characters after the quotes will be seen as codes by Python\n",
    "'Isn't this fun?' "
   ]
  },
  {
   "cell_type": "code",
   "execution_count": 29,
   "metadata": {
    "colab": {},
    "colab_type": "code",
    "id": "gTwWHZl5Qmda"
   },
   "outputs": [
    {
     "data": {
      "text/plain": [
       "\"Isn't this fun? \""
      ]
     },
     "execution_count": 29,
     "metadata": {},
     "output_type": "execute_result"
    }
   ],
   "source": [
    "\"Isn't this fun? \"# ...or use double quotes instead."
   ]
  },
  {
   "cell_type": "markdown",
   "metadata": {
    "colab_type": "text",
    "id": "c9ryQH7pQmdh"
   },
   "source": [
    "In the interactive interpreter and Jupyter notebooks, the output string is enclosed in quotes and special characters are escaped with backslashes.\n",
    "\n",
    "Although this output sometimes looks different from the input (the enclosing quotes could change), the two strings are equivalent. \n",
    "\n",
    "The string is enclosed in double quotes if the string contains a single quote and no double quotes, otherwise its enclosed in single quotes.\n",
    "\n",
    "The [`print()`](https://docs.python.org/3.6/library/functions.html#print) function produces a more readable output by omitting the enclosing quotes and by printing escaped and special characters:"
   ]
  },
  {
   "cell_type": "code",
   "execution_count": 30,
   "metadata": {
    "colab": {},
    "colab_type": "code",
    "id": "Z-V4ZOJdQmdl"
   },
   "outputs": [
    {
     "data": {
      "text/plain": [
       "'\"Isn\\'t this fun?,\" she said.'"
      ]
     },
     "execution_count": 30,
     "metadata": {},
     "output_type": "execute_result"
    }
   ],
   "source": [
    "'\"Isn\\'t this fun?,\" she said.'"
   ]
  },
  {
   "cell_type": "code",
   "execution_count": 31,
   "metadata": {
    "colab": {},
    "colab_type": "code",
    "id": "YNduUyGyQmdr"
   },
   "outputs": [
    {
     "name": "stdout",
     "output_type": "stream",
     "text": [
      "\"Isn't this fun?,\" she said.\n"
     ]
    }
   ],
   "source": [
    "print('\"Isn\\'t this fun?,\" she said.')"
   ]
  },
  {
   "cell_type": "code",
   "execution_count": 32,
   "metadata": {
    "colab": {},
    "colab_type": "code",
    "id": "nQgT5TC8Qmdy"
   },
   "outputs": [
    {
     "data": {
      "text/plain": [
       "'First line.\\nSecond line.'"
      ]
     },
     "execution_count": 32,
     "metadata": {},
     "output_type": "execute_result"
    }
   ],
   "source": [
    "# Let's create a variable \"s\" to store our String\n",
    "\n",
    "s = 'First line.\\nSecond line.'  #\\n means newline.\n",
    "s  # Without print(), \\n is included in the output."
   ]
  },
  {
   "cell_type": "code",
   "execution_count": 33,
   "metadata": {
    "colab": {},
    "colab_type": "code",
    "id": "zrNLwj5jQmeR"
   },
   "outputs": [
    {
     "name": "stdout",
     "output_type": "stream",
     "text": [
      "First line.\n",
      "Second line.\n"
     ]
    }
   ],
   "source": [
    "# Calling the print function to display the value of variable s\n",
    "print(s)  # With print(), \\n produces a new line."
   ]
  },
  {
   "cell_type": "markdown",
   "metadata": {
    "colab_type": "text",
    "id": "6G6SLgLxQmeb"
   },
   "source": [
    "If you don't want escaped characters (prefaced by \\) to be interpreted as special characters, use raw strings by adding an r before the first quote:"
   ]
  },
  {
   "cell_type": "code",
   "execution_count": 34,
   "metadata": {
    "colab": {},
    "colab_type": "code",
    "id": "qBzfcKtyQmed"
   },
   "outputs": [
    {
     "name": "stdout",
     "output_type": "stream",
     "text": [
      "C:\\some\n",
      "ame\n"
     ]
    }
   ],
   "source": [
    "print('C:\\some\\name')  # Similar to the example above, the Print function interpretes \\n as a newline"
   ]
  },
  {
   "cell_type": "code",
   "execution_count": 35,
   "metadata": {
    "colab": {},
    "colab_type": "code",
    "id": "SGj790mnQmej"
   },
   "outputs": [
    {
     "name": "stdout",
     "output_type": "stream",
     "text": [
      "C:\\some\\name\n"
     ]
    }
   ],
   "source": [
    "print(r'C:\\some\\name')  #Note the usage of r here to give you the desired output"
   ]
  },
  {
   "cell_type": "markdown",
   "metadata": {},
   "source": [
    "## Data manipulation"
   ]
  },
  {
   "cell_type": "markdown",
   "metadata": {},
   "source": [
    "**Data manipulation** is any change of data from the original, this can be as minor as sorting sentences or words by alphabetical order, or more advanced using libraries such as NumPy which we shall explore in the later sessions. \n",
    "For the purpose of this introduction, we shall explore some techniques and methods of data manipulation done on Strings"
   ]
  },
  {
   "cell_type": "markdown",
   "metadata": {},
   "source": [
    "<div class=\"alert alert-block alert-info\">\n",
    "<b>Tip:</b> Strings can be concatenated (joined together) using + operator.<br>\n",
    "Strings can be repeated using * operator"
   ]
  },
  {
   "cell_type": "code",
   "execution_count": 36,
   "metadata": {
    "colab": {},
    "colab_type": "code",
    "id": "sUTuSJzCQme5"
   },
   "outputs": [
    {
     "data": {
      "text/plain": [
       "'jojorabbit'"
      ]
     },
     "execution_count": 36,
     "metadata": {},
     "output_type": "execute_result"
    }
   ],
   "source": [
    "# 2 times 'jo', followed by 'rabbit'\n",
    "2 * 'jo' + 'rabbit'"
   ]
  },
  {
   "cell_type": "markdown",
   "metadata": {
    "colab_type": "text",
    "id": "LbZ5XN4eQmfD"
   },
   "source": [
    "Two or more *string literals* (that is, the values enclosed in quotes `\"\"` or `''`) placed next to each other are automatically concatenated(joined together):"
   ]
  },
  {
   "cell_type": "code",
   "execution_count": 37,
   "metadata": {
    "colab": {},
    "colab_type": "code",
    "id": "8EJSUOYZQmfF"
   },
   "outputs": [
    {
     "data": {
      "text/plain": [
       "'DataScience'"
      ]
     },
     "execution_count": 37,
     "metadata": {},
     "output_type": "execute_result"
    }
   ],
   "source": [
    "'Data' 'Science'"
   ]
  },
  {
   "cell_type": "markdown",
   "metadata": {},
   "source": [
    "<div class=\"alert alert-block alert-info\">\n",
    "<b>Tip:</b> Automatic concatenation works only with two literals; it does not work with variables or expressions, so the following cell produces an error"
   ]
  },
  {
   "cell_type": "code",
   "execution_count": 38,
   "metadata": {
    "colab": {},
    "colab_type": "code",
    "id": "aa1PwEOEQmfR"
   },
   "outputs": [
    {
     "ename": "SyntaxError",
     "evalue": "invalid syntax (4153943387.py, line 2)",
     "output_type": "error",
     "traceback": [
      "\u001b[0;36m  Input \u001b[0;32mIn [38]\u001b[0;36m\u001b[0m\n\u001b[0;31m    prefix 'Science'  # Can't concatenate a variable and a string literal.\u001b[0m\n\u001b[0m           ^\u001b[0m\n\u001b[0;31mSyntaxError\u001b[0m\u001b[0;31m:\u001b[0m invalid syntax\n"
     ]
    }
   ],
   "source": [
    "prefix = 'Data'\n",
    "prefix 'Science'  # Can't concatenate a variable and a string literal."
   ]
  },
  {
   "cell_type": "markdown",
   "metadata": {},
   "source": [
    "<div class=\"alert alert-block alert-info\">\n",
    "<b>Tip:</b> To concatenate variables, or a variable and a literal, use +"
   ]
  },
  {
   "cell_type": "code",
   "execution_count": 39,
   "metadata": {
    "colab": {},
    "colab_type": "code",
    "id": "_uTJcvaoQmfh"
   },
   "outputs": [
    {
     "data": {
      "text/plain": [
       "'DataScience'"
      ]
     },
     "execution_count": 39,
     "metadata": {},
     "output_type": "execute_result"
    }
   ],
   "source": [
    "prefix = 'Data'\n",
    "prefix + 'Science'"
   ]
  },
  {
   "cell_type": "markdown",
   "metadata": {},
   "source": [
    "<div class=\"alert alert-block alert-info\">\n",
    "<b>Tip:</b> Automatic concatenation is particularly useful when you want to break up long strings\n",
    "</div>"
   ]
  },
  {
   "cell_type": "code",
   "execution_count": 1,
   "metadata": {
    "colab": {},
    "colab_type": "code",
    "id": "p3vWqWmMQmfq"
   },
   "outputs": [
    {
     "data": {
      "text/plain": [
       "'Put several strings within parentheses to have them joined together.'"
      ]
     },
     "execution_count": 1,
     "metadata": {},
     "output_type": "execute_result"
    }
   ],
   "source": [
    "word = ('Put several strings within parentheses '\n",
    "            'to have them joined together.')\n",
    "word"
   ]
  },
  {
   "cell_type": "markdown",
   "metadata": {},
   "source": [
    "<div class=\"alert alert-block alert-info\">\n",
    "<b>Tip:</b> Use blue boxes (alert-info) for tips and notes. \n",
    "If it’s a note, you don’t have to include the word “Note”.\n",
    "</div>"
   ]
  },
  {
   "cell_type": "markdown",
   "metadata": {},
   "source": [
    "<div class=\"alert alert-block alert-info\">\n",
    "- In programming, the first number is actually 0! Look up `Zero-based numbering` for more details<br>\n",
    "- Strings can be *indexed* (subscripted), with the first character having index 0. <br>\n",
    "- There is no separate `character` data type; a character is simply a `string` with 1 element<br>\n",
    "</div>"
   ]
  },
  {
   "cell_type": "code",
   "execution_count": 41,
   "metadata": {
    "colab": {},
    "colab_type": "code",
    "id": "R5pRQeAxQmf8"
   },
   "outputs": [
    {
     "name": "stdout",
     "output_type": "stream",
     "text": [
      "Length of the word Python is: 6\n"
     ]
    },
    {
     "data": {
      "text/plain": [
       "'P'"
      ]
     },
     "execution_count": 41,
     "metadata": {},
     "output_type": "execute_result"
    }
   ],
   "source": [
    "word = 'Python'\n",
    "print (\"Length of the word Python is:\",len(word))# This gives you 6\n",
    "\n",
    "word[0]  # This gives you 'P' the first character of the string 'Python'"
   ]
  },
  {
   "cell_type": "code",
   "execution_count": 42,
   "metadata": {
    "colab": {},
    "colab_type": "code",
    "id": "oBY5JpVZQmgB"
   },
   "outputs": [
    {
     "data": {
      "text/plain": [
       "'n'"
      ]
     },
     "execution_count": 42,
     "metadata": {},
     "output_type": "execute_result"
    }
   ],
   "source": [
    "word[5]  # This gives you'n' the last character of the string 'Python'"
   ]
  },
  {
   "cell_type": "markdown",
   "metadata": {
    "colab_type": "text",
    "id": "u0iG8Mv1QmgO"
   },
   "source": [
    "Indices may also be negative numbers, which means to start counting from the end of the string. Note that because -0 is the same as 0, negative indices start from -1:"
   ]
  },
  {
   "cell_type": "code",
   "execution_count": 43,
   "metadata": {
    "colab": {},
    "colab_type": "code",
    "id": "aEvFYp9CQmgR"
   },
   "outputs": [
    {
     "data": {
      "text/plain": [
       "'n'"
      ]
     },
     "execution_count": 43,
     "metadata": {},
     "output_type": "execute_result"
    }
   ],
   "source": [
    "word[-1]  # Last character."
   ]
  },
  {
   "cell_type": "code",
   "execution_count": 44,
   "metadata": {
    "colab": {},
    "colab_type": "code",
    "id": "OiWEhZF2Qmgh"
   },
   "outputs": [
    {
     "data": {
      "text/plain": [
       "'o'"
      ]
     },
     "execution_count": 44,
     "metadata": {},
     "output_type": "execute_result"
    }
   ],
   "source": [
    "word[-2]  # Second-last character."
   ]
  },
  {
   "cell_type": "markdown",
   "metadata": {
    "colab_type": "text",
    "id": "lj2Ie4OeQmg1"
   },
   "source": [
    "In addition to indexing, which extracts individual characters, Python also supports *slicing*, which extracts a substring. To slice, you indicate a *range*(In math, range is defined as the difference between the highest and lowest values, for example range of `3:9` is 9 - 3 = `6`) in the format `start:end`, where the start position is included but the end position is excluded:"
   ]
  },
  {
   "cell_type": "code",
   "execution_count": 45,
   "metadata": {
    "colab": {},
    "colab_type": "code",
    "id": "pPHrYlSjQmg2"
   },
   "outputs": [
    {
     "data": {
      "text/plain": [
       "'Py'"
      ]
     },
     "execution_count": 45,
     "metadata": {},
     "output_type": "execute_result"
    }
   ],
   "source": [
    "word[0:2]  # Only characters in the range of position 0 to 2."
   ]
  },
  {
   "cell_type": "code",
   "execution_count": 46,
   "metadata": {
    "colab": {},
    "colab_type": "code",
    "id": "Mqr4JdOhQmhI"
   },
   "outputs": [
    {
     "data": {
      "text/plain": [
       "'tho'"
      ]
     },
     "execution_count": 46,
     "metadata": {},
     "output_type": "execute_result"
    }
   ],
   "source": [
    "word[2:5]  # Only characters in the range of position 2 to 5"
   ]
  },
  {
   "cell_type": "markdown",
   "metadata": {
    "colab_type": "text",
    "id": "j-Btdoi0QmhO"
   },
   "source": [
    "If you omit either position, the default start position is 0 and the default end is the length of the string:"
   ]
  },
  {
   "cell_type": "code",
   "execution_count": 47,
   "metadata": {
    "colab": {},
    "colab_type": "code",
    "id": "zDAh6H1vQmhQ"
   },
   "outputs": [
    {
     "data": {
      "text/plain": [
       "'Py'"
      ]
     },
     "execution_count": 47,
     "metadata": {},
     "output_type": "execute_result"
    }
   ],
   "source": [
    "word[:2]   # :2 is 0 to 2"
   ]
  },
  {
   "cell_type": "code",
   "execution_count": 48,
   "metadata": {
    "colab": {},
    "colab_type": "code",
    "id": "t6hWlz4fQmhg"
   },
   "outputs": [
    {
     "data": {
      "text/plain": [
       "'on'"
      ]
     },
     "execution_count": 48,
     "metadata": {},
     "output_type": "execute_result"
    }
   ],
   "source": [
    "word[4:]  # 4: is 4 to 5"
   ]
  },
  {
   "cell_type": "code",
   "execution_count": 49,
   "metadata": {
    "colab": {},
    "colab_type": "code",
    "id": "5sdb_spFQmhm"
   },
   "outputs": [
    {
     "data": {
      "text/plain": [
       "'on'"
      ]
     },
     "execution_count": 49,
     "metadata": {},
     "output_type": "execute_result"
    }
   ],
   "source": [
    "# This one is tricky! -2 is the 2nd last character, so this is equivalent to the above\n",
    "word[-2:] "
   ]
  },
  {
   "cell_type": "markdown",
   "metadata": {
    "colab_type": "text",
    "id": "48MTfYuVQmh1"
   },
   "source": [
    "One way to remember how slices work is to think of the indices as pointing between characters, with the left edge of the first character numbered 0. Then the right edge of the last character of a string of *n* characters has index *n*. For example:"
   ]
  },
  {
   "cell_type": "markdown",
   "metadata": {
    "colab_type": "raw",
    "id": "--UwXTMOQmh2"
   },
   "source": [
    "```\n",
    "+---+---+---+---+---+---+\n",
    "| P | y | t | h | o | n |\n",
    "+---+---+---+---+---+---+\n",
    "0   1   2   3   4   5   6\n",
    "-6  -5  -4  -3  -2  -1\n",
    "```"
   ]
  },
  {
   "cell_type": "markdown",
   "metadata": {
    "colab_type": "text",
    "id": "D-wwcTQnQmh7"
   },
   "source": [
    "The first row of numbers gives the position of the indices 0...6 in the string; the second row gives the corresponding negative indices. The slice from *i* to *j* consists of all characters between the edges labeled *i* and *j*, respectively.\n",
    "\n",
    "For non-negative indices, the length of a slice is the difference of the indices, if both are within bounds. For example, the length of `word[1:3]` is 2.\n",
    "\n",
    "Attempting to use an index that is too large results in an error:"
   ]
  },
  {
   "cell_type": "code",
   "execution_count": 50,
   "metadata": {
    "colab": {},
    "colab_type": "code",
    "id": "8j-XdV25Qmh-"
   },
   "outputs": [
    {
     "ename": "IndexError",
     "evalue": "string index out of range",
     "output_type": "error",
     "traceback": [
      "\u001b[0;31m---------------------------------------------------------------------------\u001b[0m",
      "\u001b[0;31mIndexError\u001b[0m                                Traceback (most recent call last)",
      "Input \u001b[0;32mIn [50]\u001b[0m, in \u001b[0;36m<cell line: 1>\u001b[0;34m()\u001b[0m\n\u001b[0;32m----> 1\u001b[0m \u001b[43mword\u001b[49m\u001b[43m[\u001b[49m\u001b[38;5;241;43m36\u001b[39;49m\u001b[43m]\u001b[49m\n",
      "\u001b[0;31mIndexError\u001b[0m: string index out of range"
     ]
    }
   ],
   "source": [
    "word[36]  # The word only has 6 characters."
   ]
  },
  {
   "cell_type": "markdown",
   "metadata": {
    "colab_type": "text",
    "id": "yOVskCFIQmiS"
   },
   "source": [
    "However, when used in a range, an index that's too large defaults to the size of the string and does not give an error. This characteristic is useful when you always want to slice at a particular index regardless of the length of a string:"
   ]
  },
  {
   "cell_type": "code",
   "execution_count": 51,
   "metadata": {
    "colab": {},
    "colab_type": "code",
    "id": "c6d0XUWoQmiV"
   },
   "outputs": [
    {
     "data": {
      "text/plain": [
       "'on'"
      ]
     },
     "execution_count": 51,
     "metadata": {},
     "output_type": "execute_result"
    }
   ],
   "source": [
    "word[4:36]"
   ]
  },
  {
   "cell_type": "markdown",
   "metadata": {
    "colab_type": "text",
    "id": "8MjXu2B4Qmid"
   },
   "source": [
    "Strings are immutable which means they do not support assignment of a new value to an indexed postion. To know more on what immutable means, check this [link](https://docs.python.org/3.5/glossary.html#term-immutable). Let's check the example below to understand it in practise"
   ]
  },
  {
   "cell_type": "code",
   "execution_count": 52,
   "metadata": {
    "colab": {},
    "colab_type": "code",
    "id": "iOE9BhZkQmie"
   },
   "outputs": [
    {
     "ename": "TypeError",
     "evalue": "'str' object does not support item assignment",
     "output_type": "error",
     "traceback": [
      "\u001b[0;31m---------------------------------------------------------------------------\u001b[0m",
      "\u001b[0;31mTypeError\u001b[0m                                 Traceback (most recent call last)",
      "Input \u001b[0;32mIn [52]\u001b[0m, in \u001b[0;36m<cell line: 1>\u001b[0;34m()\u001b[0m\n\u001b[0;32m----> 1\u001b[0m word[\u001b[38;5;241m2\u001b[39m]\u001b[38;5;241m=\u001b[39m\u001b[38;5;124m'\u001b[39m\u001b[38;5;124ma\u001b[39m\u001b[38;5;124m'\u001b[39m\n",
      "\u001b[0;31mTypeError\u001b[0m: 'str' object does not support item assignment"
     ]
    }
   ],
   "source": [
    "word[2]='a'"
   ]
  },
  {
   "cell_type": "markdown",
   "metadata": {
    "colab_type": "text",
    "id": "u2Q6nhiQQmik"
   },
   "source": [
    "The following cell also produces an error:"
   ]
  },
  {
   "cell_type": "code",
   "execution_count": 53,
   "metadata": {
    "colab": {},
    "colab_type": "code",
    "id": "7sbRpYz0Qmim"
   },
   "outputs": [
    {
     "ename": "TypeError",
     "evalue": "'str' object does not support item assignment",
     "output_type": "error",
     "traceback": [
      "\u001b[0;31m---------------------------------------------------------------------------\u001b[0m",
      "\u001b[0;31mTypeError\u001b[0m                                 Traceback (most recent call last)",
      "Input \u001b[0;32mIn [53]\u001b[0m, in \u001b[0;36m<cell line: 1>\u001b[0;34m()\u001b[0m\n\u001b[0;32m----> 1\u001b[0m word[\u001b[38;5;241m2\u001b[39m:] \u001b[38;5;241m=\u001b[39m \u001b[38;5;124m'\u001b[39m\u001b[38;5;124mpy\u001b[39m\u001b[38;5;124m'\u001b[39m\n",
      "\u001b[0;31mTypeError\u001b[0m: 'str' object does not support item assignment"
     ]
    }
   ],
   "source": [
    "word[2:] = 'py'"
   ]
  },
  {
   "cell_type": "markdown",
   "metadata": {
    "colab_type": "text",
    "id": "VXMu0dVlQmio"
   },
   "source": [
    "A slice it itself a value that you can concatenate with other values using `+`:"
   ]
  },
  {
   "cell_type": "code",
   "execution_count": 54,
   "metadata": {
    "colab": {},
    "colab_type": "code",
    "id": "4YWQR403Qmip"
   },
   "outputs": [
    {
     "data": {
      "text/plain": [
       "'Jython'"
      ]
     },
     "execution_count": 54,
     "metadata": {},
     "output_type": "execute_result"
    }
   ],
   "source": [
    "'J' + word[1:]"
   ]
  },
  {
   "cell_type": "code",
   "execution_count": 55,
   "metadata": {
    "colab": {},
    "colab_type": "code",
    "id": "sEtHIAqMQmiw"
   },
   "outputs": [
    {
     "data": {
      "text/plain": [
       "'PyPy'"
      ]
     },
     "execution_count": 55,
     "metadata": {},
     "output_type": "execute_result"
    }
   ],
   "source": [
    "word[:2] + 'Py'"
   ]
  },
  {
   "cell_type": "markdown",
   "metadata": {
    "colab_type": "text",
    "id": "9XmlQMh1Qmiz"
   },
   "source": [
    "A slice, however, is not a string literal and cannot be used with automatic concatenation. The following code produces an error:"
   ]
  },
  {
   "cell_type": "code",
   "execution_count": 56,
   "metadata": {
    "colab": {},
    "colab_type": "code",
    "id": "rfHvpWLzQmi0"
   },
   "outputs": [
    {
     "ename": "SyntaxError",
     "evalue": "invalid syntax (1674871481.py, line 1)",
     "output_type": "error",
     "traceback": [
      "\u001b[0;36m  Input \u001b[0;32mIn [56]\u001b[0;36m\u001b[0m\n\u001b[0;31m    word[:2] 'Py'    # Slice is not a literal; produces an error\u001b[0m\n\u001b[0m             ^\u001b[0m\n\u001b[0;31mSyntaxError\u001b[0m\u001b[0;31m:\u001b[0m invalid syntax\n"
     ]
    }
   ],
   "source": [
    "word[:2] 'Py'    # Slice is not a literal; produces an error"
   ]
  },
  {
   "cell_type": "markdown",
   "metadata": {
    "colab_type": "text",
    "id": "7Vrgw036QmjC"
   },
   "source": [
    "The built-in function [`len()`](https://docs.python.org/3.5/library/functions.html#len) returns the length of a string:"
   ]
  },
  {
   "cell_type": "code",
   "execution_count": 57,
   "metadata": {
    "colab": {},
    "colab_type": "code",
    "id": "9ggcwHTEQmjD"
   },
   "outputs": [
    {
     "data": {
      "text/plain": [
       "36"
      ]
     },
     "execution_count": 57,
     "metadata": {},
     "output_type": "execute_result"
    }
   ],
   "source": [
    "text = 'Using Python for data science is fun'\n",
    "len(text) #Notice that even the spaces are counted in the length "
   ]
  },
  {
   "cell_type": "markdown",
   "metadata": {
    "colab_type": "text",
    "id": "bzBdwrZEQmjK"
   },
   "source": [
    "# Lists"
   ]
  },
  {
   "cell_type": "markdown",
   "metadata": {
    "colab_type": "text",
    "id": "yT6OJlclQmjL"
   },
   "source": [
    "A list is an **ordered** sequence of items, meaning items in the list are stored in the `order` of which it was input.\n",
    "Remember, a list may contain different types of items. \n",
    "To define a list, you must put values separated with commas in square brackets. "
   ]
  },
  {
   "cell_type": "code",
   "execution_count": 58,
   "metadata": {
    "colab": {},
    "colab_type": "code",
    "id": "8SBi7hzbQmjM"
   },
   "outputs": [
    {
     "data": {
      "text/plain": [
       "['Vicky', 25, 'Jun Kai', 12]"
      ]
     },
     "execution_count": 58,
     "metadata": {},
     "output_type": "execute_result"
    }
   ],
   "source": [
    "Students=['Vicky',25,'Jun Kai',12] # Here the name of the student is stored with their respective roll numbers \n",
    "Students"
   ]
  },
  {
   "cell_type": "code",
   "execution_count": 59,
   "metadata": {},
   "outputs": [
    {
     "data": {
      "text/plain": [
       "list"
      ]
     },
     "execution_count": 59,
     "metadata": {},
     "output_type": "execute_result"
    }
   ],
   "source": [
    "type(Students)"
   ]
  },
  {
   "cell_type": "markdown",
   "metadata": {
    "colab_type": "text",
    "id": "1AbKito1QmjT"
   },
   "source": [
    "Lists are mutable(can be changed or updated) unlike Strings. Like strings (and all other built-in [sequence](https://docs.python.org/3.5/glossary.html#term-sequence) types), lists can be indexed and sliced:"
   ]
  },
  {
   "cell_type": "code",
   "execution_count": 60,
   "metadata": {
    "colab": {},
    "colab_type": "code",
    "id": "rsaF8QBZQmjU"
   },
   "outputs": [
    {
     "data": {
      "text/plain": [
       "'Vicky'"
      ]
     },
     "execution_count": 60,
     "metadata": {},
     "output_type": "execute_result"
    }
   ],
   "source": [
    "Students[0]  # Indexing returns the item."
   ]
  },
  {
   "cell_type": "code",
   "execution_count": 61,
   "metadata": {
    "colab": {},
    "colab_type": "code",
    "id": "Tyus-1dWQmjc"
   },
   "outputs": [
    {
     "data": {
      "text/plain": [
       "12"
      ]
     },
     "execution_count": 61,
     "metadata": {},
     "output_type": "execute_result"
    }
   ],
   "source": [
    "Students[-1]"
   ]
  },
  {
   "cell_type": "code",
   "execution_count": 62,
   "metadata": {
    "colab": {},
    "colab_type": "code",
    "id": "nt7XfmgPQmjz"
   },
   "outputs": [
    {
     "data": {
      "text/plain": [
       "[25, 'Jun Kai', 12]"
      ]
     },
     "execution_count": 62,
     "metadata": {},
     "output_type": "execute_result"
    }
   ],
   "source": [
    "Students[-3:]  # Slicing returns a new list."
   ]
  },
  {
   "cell_type": "code",
   "execution_count": 63,
   "metadata": {
    "colab": {},
    "colab_type": "code",
    "id": "Vecj91UrQmkH"
   },
   "outputs": [
    {
     "data": {
      "text/plain": [
       "['Vicky', 25, 'Jun Kai', 12]"
      ]
     },
     "execution_count": 63,
     "metadata": {},
     "output_type": "execute_result"
    }
   ],
   "source": [
    "Students[:]"
   ]
  },
  {
   "cell_type": "markdown",
   "metadata": {
    "colab_type": "text",
    "id": "ljUfZHHkQmkQ"
   },
   "source": [
    "Lists also support concatenation with the `+` operator:"
   ]
  },
  {
   "cell_type": "code",
   "execution_count": 64,
   "metadata": {
    "colab": {},
    "colab_type": "code",
    "id": "aXKpnbZkQmkQ"
   },
   "outputs": [
    {
     "data": {
      "text/plain": [
       "['Vicky', 25, 'Jun Kai', 12, 'Gabrielle', 13, 'Cao', 47]"
      ]
     },
     "execution_count": 64,
     "metadata": {},
     "output_type": "execute_result"
    }
   ],
   "source": [
    "Students + ['Gabrielle',13, 'Cao', 47]"
   ]
  },
  {
   "cell_type": "markdown",
   "metadata": {
    "colab_type": "text",
    "id": "LINx1gxIQmkb"
   },
   "source": [
    "As mentioned at the start, unlike strings, which are immutable, lists are a mutable type, which means you can change any value in the list:"
   ]
  },
  {
   "cell_type": "code",
   "execution_count": 65,
   "metadata": {
    "colab": {},
    "colab_type": "code",
    "id": "uVF_y-ZiQmki"
   },
   "outputs": [],
   "source": [
    "Students=['Vicky',25,'Jun Kai',12] #Something is wrong here....\n",
    "#Vicky's roll number is 10"
   ]
  },
  {
   "cell_type": "code",
   "execution_count": 66,
   "metadata": {
    "colab": {},
    "colab_type": "code",
    "id": "lFCru_AMQmkm"
   },
   "outputs": [
    {
     "data": {
      "text/plain": [
       "['Vicky', 10, 'Jun Kai', 12]"
      ]
     },
     "execution_count": 66,
     "metadata": {},
     "output_type": "execute_result"
    }
   ],
   "source": [
    "Students[1]=10 #correcting the wrong value\n",
    "Students"
   ]
  },
  {
   "cell_type": "markdown",
   "metadata": {
    "colab_type": "text",
    "id": "9G9-ltu8Qmks"
   },
   "source": [
    "Use the list's `append()` method to add new items to the end of the list:"
   ]
  },
  {
   "cell_type": "code",
   "execution_count": 67,
   "metadata": {
    "colab": {},
    "colab_type": "code",
    "id": "AEh8DPBWQmkt"
   },
   "outputs": [
    {
     "data": {
      "text/plain": [
       "['Vicky', 10, 'Jun Kai', 12, 'Isaac']"
      ]
     },
     "execution_count": 67,
     "metadata": {},
     "output_type": "execute_result"
    }
   ],
   "source": [
    "Students.append('Isaac') #Note you can only add one argument at a time \n",
    "Students\n"
   ]
  },
  {
   "cell_type": "code",
   "execution_count": 68,
   "metadata": {
    "colab": {},
    "colab_type": "code",
    "id": "pk3in1B9Qmky"
   },
   "outputs": [
    {
     "data": {
      "text/plain": [
       "['Vicky', 10, 'Jun Kai', 12, 'Isaac', 15]"
      ]
     },
     "execution_count": 68,
     "metadata": {},
     "output_type": "execute_result"
    }
   ],
   "source": [
    "Students.append(15) #Adding the second argument\n",
    "Students"
   ]
  },
  {
   "cell_type": "markdown",
   "metadata": {},
   "source": [
    "<div class=\"alert alert-block alert-info\">\n",
    "<b>Tip:</b> You can even assign to slices, which can change the size of the list or clear it entirely\n",
    "</div>"
   ]
  },
  {
   "cell_type": "code",
   "execution_count": 69,
   "metadata": {
    "colab": {},
    "colab_type": "code",
    "id": "z4FEGFWyQmk6"
   },
   "outputs": [
    {
     "data": {
      "text/plain": [
       "['Vicky', 10, 'Ming Ian', 21, 15]"
      ]
     },
     "execution_count": 69,
     "metadata": {},
     "output_type": "execute_result"
    }
   ],
   "source": [
    "#Replace some values\n",
    "Students[2:5]=['Ming Ian', 21]\n",
    "Students"
   ]
  },
  {
   "cell_type": "code",
   "execution_count": 70,
   "metadata": {
    "colab": {},
    "colab_type": "code",
    "id": "cLaFnrqhQmlA"
   },
   "outputs": [
    {
     "data": {
      "text/plain": [
       "['Vicky', 10]"
      ]
     },
     "execution_count": 70,
     "metadata": {},
     "output_type": "execute_result"
    }
   ],
   "source": [
    "# Now remove them.\n",
    "Students[2:5] = []\n",
    "Students"
   ]
  },
  {
   "cell_type": "markdown",
   "metadata": {
    "colab_type": "text",
    "id": "BBULIWX7QmlE"
   },
   "source": [
    "The built-in len() function also applies to lists:"
   ]
  },
  {
   "cell_type": "code",
   "execution_count": 71,
   "metadata": {
    "colab": {},
    "colab_type": "code",
    "id": "IduWyDgDQmlG"
   },
   "outputs": [
    {
     "data": {
      "text/plain": [
       "2"
      ]
     },
     "execution_count": 71,
     "metadata": {},
     "output_type": "execute_result"
    }
   ],
   "source": [
    "len(Students)"
   ]
  },
  {
   "cell_type": "markdown",
   "metadata": {
    "colab_type": "text",
    "id": "RX4sCbu8QmlK"
   },
   "source": [
    "You can nest lists, which means to create lists that contain other lists. For example:"
   ]
  },
  {
   "cell_type": "code",
   "execution_count": 72,
   "metadata": {
    "colab": {},
    "colab_type": "code",
    "id": "c9O1U64eQmlL"
   },
   "outputs": [
    {
     "data": {
      "text/plain": [
       "[['a', 'b', 'c'], [1, 2, 3]]"
      ]
     },
     "execution_count": 72,
     "metadata": {},
     "output_type": "execute_result"
    }
   ],
   "source": [
    "a = ['a', 'b', 'c'] #List 1\n",
    "n = [1, 2, 3] #List 2\n",
    "x = [a, n] # List x now contains List 1 and List 2\n",
    "x "
   ]
  },
  {
   "cell_type": "code",
   "execution_count": 73,
   "metadata": {
    "colab": {},
    "colab_type": "code",
    "id": "YmCP-8eQQmlO"
   },
   "outputs": [
    {
     "name": "stdout",
     "output_type": "stream",
     "text": [
      "List 1: ['a', 'b', 'c']\n",
      "List 2: [1, 2, 3]\n"
     ]
    }
   ],
   "source": [
    "x[0] # The first element of the nested list is List 1\n",
    "x[1] # The second element of the nested list is list 2\n",
    "print (\"List 1:\",x[0])\n",
    "print (\"List 2:\",x[1])"
   ]
  },
  {
   "cell_type": "code",
   "execution_count": 74,
   "metadata": {
    "colab": {},
    "colab_type": "code",
    "id": "DGgaMGogQmlT"
   },
   "outputs": [
    {
     "data": {
      "text/plain": [
       "'b'"
      ]
     },
     "execution_count": 74,
     "metadata": {},
     "output_type": "execute_result"
    }
   ],
   "source": [
    "#This would give you, the 2nd element of List 1, which is 'b'\n",
    "x[0][1] "
   ]
  },
  {
   "cell_type": "markdown",
   "metadata": {
    "colab_type": "text",
    "id": "yR8oZIPOQmlX"
   },
   "source": [
    "# Tuples"
   ]
  },
  {
   "cell_type": "markdown",
   "metadata": {
    "colab_type": "text",
    "id": "-4fhSP4kQmlY"
   },
   "source": [
    "A tuple is an ordered sequence of items. You might be wondering now then how is it different from lists?\n",
    "\n",
    "The main differences between tuples and lists are : \n",
    "1. Tuples cannot be modified element wise like lists (Objects which cannot be modified in such a manner are described as **immutable** objects. \n",
    "2. Tuples use parentheses, whereas lists use square brackets."
   ]
  },
  {
   "cell_type": "code",
   "execution_count": 75,
   "metadata": {
    "colab": {},
    "colab_type": "code",
    "id": "-JaURertQmlY"
   },
   "outputs": [
    {
     "name": "stdout",
     "output_type": "stream",
     "text": [
      "('Susan', 25, 'John', 12)\n"
     ]
    }
   ],
   "source": [
    "Students_new = ('Susan',25,'John',12) #Tuple being defined\n",
    "print(Students_new)"
   ]
  },
  {
   "cell_type": "code",
   "execution_count": 76,
   "metadata": {
    "colab": {
     "base_uri": "https://localhost:8080/",
     "height": 183
    },
    "colab_type": "code",
    "id": "LN0-jf8vQmlh",
    "outputId": "651c5abd-b1c4-4af6-c246-e04970c89c6c"
   },
   "outputs": [
    {
     "ename": "TypeError",
     "evalue": "'tuple' object does not support item assignment",
     "output_type": "error",
     "traceback": [
      "\u001b[0;31m---------------------------------------------------------------------------\u001b[0m",
      "\u001b[0;31mTypeError\u001b[0m                                 Traceback (most recent call last)",
      "Input \u001b[0;32mIn [76]\u001b[0m, in \u001b[0;36m<cell line: 1>\u001b[0;34m()\u001b[0m\n\u001b[0;32m----> 1\u001b[0m Students_new[\u001b[38;5;241m1\u001b[39m]\u001b[38;5;241m=\u001b[39m \u001b[38;5;124m'\u001b[39m\u001b[38;5;124m26\u001b[39m\u001b[38;5;124m'\u001b[39m\n\u001b[1;32m      2\u001b[0m \u001b[38;5;28mprint\u001b[39m(Students_new)\n",
      "\u001b[0;31mTypeError\u001b[0m: 'tuple' object does not support item assignment"
     ]
    }
   ],
   "source": [
    "Students_new[1]= '26'\n",
    "print(Students_new) #Notice the error which shows up in the output"
   ]
  },
  {
   "cell_type": "markdown",
   "metadata": {
    "colab_type": "text",
    "id": "-KWdBt3hQmlx"
   },
   "source": [
    "# Dictionary"
   ]
  },
  {
   "cell_type": "markdown",
   "metadata": {
    "colab_type": "text",
    "id": "SJYdqkn6Qmlx"
   },
   "source": [
    "***Dictionary is an unordered collection of key-value pairs.***\n",
    "\n",
    "In Python, dictionaries are defined within braces {} with each item being a pair in the form **key:value**. Key and value can be of any type.\n",
    "\n",
    "A Dictionary in Python works similar to the Dictionary in a real world. Keys of a Dictionary must be unique and\n",
    "of immutable data type such as Strings, Integers and tuples, but the key-values can be repeated and be of any type.\n",
    "\n",
    "You might want to use a Dictionary over Tuples as it is quicker to access data if the data source is substantially large as finding data in Tuples requires looping which we will go through later"
   ]
  },
  {
   "cell_type": "code",
   "execution_count": 77,
   "metadata": {
    "colab": {},
    "colab_type": "code",
    "id": "vU4akZPmQmly"
   },
   "outputs": [
    {
     "data": {
      "text/plain": [
       "{'Day': 'Monday', 'Date': [1, 2, 3]}"
      ]
     },
     "execution_count": 77,
     "metadata": {},
     "output_type": "execute_result"
    }
   ],
   "source": [
    "Time={'Day':'Monday','Date':[1,2,3]}\n",
    "Time"
   ]
  },
  {
   "cell_type": "code",
   "execution_count": 78,
   "metadata": {},
   "outputs": [
    {
     "data": {
      "text/plain": [
       "dict"
      ]
     },
     "execution_count": 78,
     "metadata": {},
     "output_type": "execute_result"
    }
   ],
   "source": [
    "type(Time)"
   ]
  },
  {
   "cell_type": "code",
   "execution_count": 79,
   "metadata": {},
   "outputs": [
    {
     "data": {
      "text/plain": [
       "'Monday'"
      ]
     },
     "execution_count": 79,
     "metadata": {},
     "output_type": "execute_result"
    }
   ],
   "source": [
    "Time['Day'] #Using key to display respective value"
   ]
  },
  {
   "cell_type": "code",
   "execution_count": 80,
   "metadata": {
    "colab": {
     "base_uri": "https://localhost:8080/",
     "height": 166
    },
    "colab_type": "code",
    "id": "aea1nt3dQml7",
    "outputId": "fce73704-402f-4ac2-9e80-970cfb7ac7f9"
   },
   "outputs": [
    {
     "ename": "KeyError",
     "evalue": "'Monday'",
     "output_type": "error",
     "traceback": [
      "\u001b[0;31m---------------------------------------------------------------------------\u001b[0m",
      "\u001b[0;31mKeyError\u001b[0m                                  Traceback (most recent call last)",
      "Input \u001b[0;32mIn [80]\u001b[0m, in \u001b[0;36m<cell line: 1>\u001b[0;34m()\u001b[0m\n\u001b[0;32m----> 1\u001b[0m \u001b[43mTime\u001b[49m\u001b[43m[\u001b[49m\u001b[38;5;124;43m'\u001b[39;49m\u001b[38;5;124;43mMonday\u001b[39;49m\u001b[38;5;124;43m'\u001b[39;49m\u001b[43m]\u001b[49m\n",
      "\u001b[0;31mKeyError\u001b[0m: 'Monday'"
     ]
    }
   ],
   "source": [
    "Time['Monday'] #Reverse cannot be done, i.e using value one cannot display key"
   ]
  },
  {
   "cell_type": "markdown",
   "metadata": {
    "colab_type": "text",
    "id": "JMyL5VsTQml-"
   },
   "source": [
    "# Type-Conversion in Python"
   ]
  },
  {
   "cell_type": "markdown",
   "metadata": {
    "colab_type": "text",
    "id": "YvyMdbr6Qml_"
   },
   "source": [
    "As the name suggests, type-conversion in Python is the process of converting one data type to another. This can be done into two ways :\n",
    "\n",
    "**1. Implicit Type Conversion** - In this type of type-conversion, Python automatically converts one data-type to another data-type. The user need not give specific instructions for carrying this conversion out. \n",
    "\n",
    "**2. Explicit Type Conversion** - In Explicit type-conversion, the user sets preference from converting one data-type to another desired data-type."
   ]
  },
  {
   "cell_type": "code",
   "execution_count": 81,
   "metadata": {
    "colab": {},
    "colab_type": "code",
    "id": "Yvsni_SFQml_"
   },
   "outputs": [
    {
     "name": "stdout",
     "output_type": "stream",
     "text": [
      "datatype of integer: <class 'int'>\n",
      "datatype of float_n: <class 'float'>\n",
      "Value of add: 151.55\n",
      "datatype of add: <class 'float'>\n"
     ]
    }
   ],
   "source": [
    "integer = 150\n",
    "float_n = 1.55\n",
    "\n",
    "add = integer + float_n\n",
    "\n",
    "print(\"datatype of integer:\",type(integer))\n",
    "print(\"datatype of float_n:\",type(float_n))\n",
    "\n",
    "print(\"Value of add:\",add)\n",
    "print(\"datatype of add:\",type(add))"
   ]
  },
  {
   "cell_type": "markdown",
   "metadata": {
    "colab_type": "text",
    "id": "eO-lZtpMQmmC"
   },
   "source": [
    "In the above example we can clearly see how python implicitly set up the data-type of the variable 'add'. Let's try adding a string and an integer to see what happens! "
   ]
  },
  {
   "cell_type": "code",
   "execution_count": 84,
   "metadata": {
    "colab": {},
    "colab_type": "code",
    "id": "cBq1jSD1QmmD"
   },
   "outputs": [
    {
     "ename": "TypeError",
     "evalue": "unsupported operand type(s) for +: 'int' and 'str'",
     "output_type": "error",
     "traceback": [
      "\u001b[0;31m---------------------------------------------------------------------------\u001b[0m",
      "\u001b[0;31mTypeError\u001b[0m                                 Traceback (most recent call last)",
      "Input \u001b[0;32mIn [84]\u001b[0m, in \u001b[0;36m<cell line: 2>\u001b[0;34m()\u001b[0m\n\u001b[1;32m      1\u001b[0m string \u001b[38;5;241m=\u001b[39m \u001b[38;5;124m'\u001b[39m\u001b[38;5;124m300\u001b[39m\u001b[38;5;124m'\u001b[39m\n\u001b[0;32m----> 2\u001b[0m new \u001b[38;5;241m=\u001b[39m \u001b[43minteger\u001b[49m\u001b[43m \u001b[49m\u001b[38;5;241;43m+\u001b[39;49m\u001b[43m \u001b[49m\u001b[43mstring\u001b[49m\n",
      "\u001b[0;31mTypeError\u001b[0m: unsupported operand type(s) for +: 'int' and 'str'"
     ]
    }
   ],
   "source": [
    "string = '300'\n",
    "new = integer + string #adding a string and an integer returns an error"
   ]
  },
  {
   "cell_type": "code",
   "execution_count": 85,
   "metadata": {
    "colab": {},
    "colab_type": "code",
    "id": "Wsn7moyQQmmF"
   },
   "outputs": [
    {
     "name": "stdout",
     "output_type": "stream",
     "text": [
      "Data type of integer: <class 'int'>\n",
      "Data type of string before explicit conversion: <class 'str'>\n",
      "Data type of string after explicit conversion: <class 'int'>\n",
      "Sum of integer and string: 450\n",
      "Data type of the sum: <class 'int'>\n"
     ]
    }
   ],
   "source": [
    "integer = 150\n",
    "string = \"300\"\n",
    "\n",
    "print(\"Data type of integer:\",type(integer))\n",
    "print(\"Data type of string before explicit conversion:\",type(string))\n",
    "\n",
    "string = int(string)\n",
    "print(\"Data type of string after explicit conversion:\",type(string))\n",
    "\n",
    "new = integer + string\n",
    "\n",
    "print(\"Sum of integer and string:\",new)\n",
    "print(\"Data type of the sum:\",type(new))"
   ]
  },
  {
   "cell_type": "markdown",
   "metadata": {
    "colab_type": "text",
    "id": "h_qAJ56LQmmH"
   },
   "source": [
    "Explicit type conversion is also known as **\"Typecasting\"**. The major difference between them is the **involvement of the user** and the fact that in implicit conversion, Python gives **preference to data type which would avoid data loss**. For example if we are adding a float with an int type the result would always be float else the sum would get truncated if the result is converted into int, thus resulting in loss of data. "
   ]
  },
  {
   "cell_type": "markdown",
   "metadata": {
    "colab_type": "text",
    "id": "nkzEuoQFQmnH"
   },
   "source": [
    "# Flow Control in Python"
   ]
  },
  {
   "cell_type": "markdown",
   "metadata": {
    "colab_type": "text",
    "id": "9vgEmdKmQmnI"
   },
   "source": [
    "In general, statements are executed sequentially: The first statement in a function is executed first, followed by the second, and so on. There may be a situation when you need to execute a block of code several number of times. \n",
    "\n",
    "Programming languages provide various control structures that allow for more complicated execution paths.\n",
    "\n",
    "A loop statement allows us to execute a statement or group of statements multiple times.\n",
    "\n",
    "For more infortmation click [here](https://www.tutorialspoint.com/python/python_loops.htm)"
   ]
  },
  {
   "cell_type": "markdown",
   "metadata": {
    "colab_type": "text",
    "id": "aQ_lwaTLQmnI"
   },
   "source": [
    "**If-Else Statement**\n",
    "\n",
    "A situation where this may be used is when you would like to check for a condition(user-defined) to allow a particular code to execute, such as checking for password from user input."
   ]
  },
  {
   "cell_type": "code",
   "execution_count": 86,
   "metadata": {
    "colab": {},
    "colab_type": "code",
    "id": "daALlmRhQmnJ"
   },
   "outputs": [
    {
     "name": "stdout",
     "output_type": "stream",
     "text": [
      "b\n"
     ]
    }
   ],
   "source": [
    "a,b = 2,3 #This is a way to assign values to multiple variables in the same line\n",
    "\n",
    "if a > b: #If a is greater than b, print the value of a\n",
    "    print(\"a\") #Indentation using the `Tab` key is important to denote that this print(\"a\") is for the first if statement\n",
    "else:\n",
    "    print(\"b\")#else print the value of b"
   ]
  },
  {
   "cell_type": "code",
   "execution_count": 87,
   "metadata": {
    "colab": {},
    "colab_type": "code",
    "id": "tTChTiUOQmnN"
   },
   "outputs": [
    {
     "name": "stdout",
     "output_type": "stream",
     "text": [
      "7 is good\n"
     ]
    }
   ],
   "source": [
    "a = 7\n",
    "#If a is greater than the value 6, execute the statement below it\n",
    "if a > 6:\n",
    "     print(f\"{a} is good\")"
   ]
  },
  {
   "cell_type": "markdown",
   "metadata": {
    "colab_type": "text",
    "id": "s4Xi17_1QmnQ"
   },
   "source": [
    "**While Loop**"
   ]
  },
  {
   "cell_type": "markdown",
   "metadata": {
    "colab_type": "text",
    "id": "KNjNdpZKQmnR"
   },
   "source": [
    "A while loop in python iterates till its condition becomes False. \n",
    "\n",
    "In other words, it executes the statements under itself while the condition it takes is True. \n",
    "\n",
    "When the program control reaches the while loop, the condition is checked. If the condition is true, the block of code under it is executed.Remember to indent all statements under the loop equally.After that, the condition is checked again. This continues until the condition becomes false. Then, the first statement, if any, after the loop is executed."
   ]
  },
  {
   "cell_type": "code",
   "execution_count": 88,
   "metadata": {
    "colab": {},
    "colab_type": "code",
    "id": "4xYqCDhzQmnR"
   },
   "outputs": [
    {
     "name": "stdout",
     "output_type": "stream",
     "text": [
      "0\n",
      "1\n",
      "2\n",
      "3\n",
      "4\n",
      "5\n",
      "6\n",
      "7\n",
      "8\n",
      "Loop has ended at 8, can you tell why?\n"
     ]
    }
   ],
   "source": [
    "a = 0 #Assign the value 0 to the variable a\n",
    "\n",
    "#The condition of this loop is to run *while* the value of a is LESS THAN 9\n",
    "while(a < 9):\n",
    "    print(a) #This print is to demonstrate how the condition functions in a loop using an number increment\n",
    "    a += 1\n",
    "   \n",
    "print(\"Loop has ended at 8, can you tell why?\")\n",
    "    "
   ]
  },
  {
   "cell_type": "markdown",
   "metadata": {
    "colab_type": "text",
    "id": "4dmfDaPaQmnU"
   },
   "source": [
    "**For Loop**"
   ]
  },
  {
   "cell_type": "markdown",
   "metadata": {
    "colab_type": "text",
    "id": "uxse4FUPQmnV"
   },
   "source": [
    "A for loop does the same thing as the example in the while loop, but makes it simpler to write and understand. For more information, click [here](https://data-flair.training/blogs/python-loop/)"
   ]
  },
  {
   "cell_type": "code",
   "execution_count": 89,
   "metadata": {
    "colab": {},
    "colab_type": "code",
    "id": "7aXCgeP4QmnW"
   },
   "outputs": [
    {
     "name": "stdout",
     "output_type": "stream",
     "text": [
      "0\n",
      "1\n",
      "2\n",
      "3\n",
      "4\n",
      "5\n",
      "6\n",
      "7\n",
      "8\n",
      "9\n"
     ]
    }
   ],
   "source": [
    "for i in range(10): #This statement creates a for loop that runs 10 times and stops\n",
    "    print(i)"
   ]
  },
  {
   "cell_type": "code",
   "execution_count": 90,
   "metadata": {
    "colab": {},
    "colab_type": "code",
    "id": "GdHwjGagQmne"
   },
   "outputs": [
    {
     "name": "stdout",
     "output_type": "stream",
     "text": [
      "[0, 1]\n",
      "[0, 1, 1]\n",
      "[0, 1, 1, 2]\n",
      "[0, 1, 1, 2, 3]\n",
      "[0, 1, 1, 2, 3, 5]\n",
      "[0, 1, 1, 2, 3, 5, 8]\n",
      "[0, 1, 1, 2, 3, 5, 8, 13]\n",
      "[0, 1, 1, 2, 3, 5, 8, 13, 21]\n",
      "[0, 1, 1, 2, 3, 5, 8, 13, 21, 34]\n",
      "[0, 1, 1, 2, 3, 5, 8, 13, 21, 34, 55]\n"
     ]
    }
   ],
   "source": [
    "lst=[0,1]\n",
    "\n",
    "for i in range(10):\n",
    "    print(lst)\n",
    "    lst.append(lst[-1]+lst[-2])"
   ]
  },
  {
   "cell_type": "markdown",
   "metadata": {},
   "source": [
    "This example demonstrates how flow control, could be used in a simple login system, give it a try below!"
   ]
  },
  {
   "cell_type": "code",
   "execution_count": 91,
   "metadata": {
    "colab": {},
    "colab_type": "code",
    "id": "CdZTvA04Qmno"
   },
   "outputs": [
    {
     "name": "stdout",
     "output_type": "stream",
     "text": [
      "enter your password:python\n",
      "Success!\n"
     ]
    }
   ],
   "source": [
    "countdown = 5 # Creating a variable to track the amount of tries left to input the correct password\n",
    "\n",
    "# Example of flow control being nested(put inside each other), this example loop allows for 6 runs before stopping\n",
    "for i in range(6): \n",
    "    password=str(input(\"enter your password:\"))#Try entering a variety of inputs and see what happens!\n",
    "    if(password == \"python\"): # The actual password\n",
    "        print(\"Success!\")\n",
    "        break # break is used to break out of the loop\n",
    "    if(countdown <= 0): # If countdown hits 0 or a negative value execute the statement underneath\n",
    "        print(\"Login failed!\")\n",
    "    else:\n",
    "        print(f\"\\n{countdown} Login attemps remaining!\") # Display the amount of login attemps left\n",
    "    countdown -= 1 # Reduce the countdown number by 1 every run"
   ]
  },
  {
   "cell_type": "markdown",
   "metadata": {
    "colab_type": "text",
    "id": "GpAfb9IPQmmJ"
   },
   "source": [
    "# **Functions in Python**"
   ]
  },
  {
   "cell_type": "markdown",
   "metadata": {
    "colab_type": "text",
    "id": "HI36jwFKQmmK"
   },
   "source": [
    "In programming we often come across situations where a particular block of code needs to be repeated or reused. Thus the concept of functions comes into play. \n",
    "\n",
    "***A function is basically a block of code which performs a specific task.***\n",
    "\n",
    "Functions make the entire code look more organised and manageable. They allow reusability of code and organise the program into small modular chunks."
   ]
  },
  {
   "cell_type": "markdown",
   "metadata": {
    "colab_type": "text",
    "id": "hJVZzISKQmmK"
   },
   "source": [
    "**Syntax of a Function**"
   ]
  },
  {
   "cell_type": "code",
   "execution_count": 92,
   "metadata": {
    "colab": {},
    "colab_type": "code",
    "id": "je-XIAaoQmmK"
   },
   "outputs": [],
   "source": [
    "def name_of_function(parameter):\n",
    "    statements"
   ]
  },
  {
   "cell_type": "markdown",
   "metadata": {
    "colab_type": "text",
    "id": "Qk4l2NgNQmmO"
   },
   "source": [
    "The above example illustrates how a function typically looks like. Notice it contains three parts -\n",
    "1. Keyword **def** that marks the start of the function header.\n",
    "2. A unique function name which helps in identifying the function.\n",
    "3. **Parameters** which help us in passing values through the function. They are also known as arguments and are optional.\n",
    "4. **Statements** consist of the code which performs the specific task for which the function is defined.\n"
   ]
  },
  {
   "cell_type": "code",
   "execution_count": 93,
   "metadata": {
    "colab": {},
    "colab_type": "code",
    "id": "p3X22xWIQmmO"
   },
   "outputs": [],
   "source": [
    "def sum(x, y): #This example shows a function which can add two numbers x & y\n",
    "    s = x+y\n",
    "    return s"
   ]
  },
  {
   "cell_type": "markdown",
   "metadata": {
    "colab_type": "text",
    "id": "46Jtqhn5Qmmf"
   },
   "source": [
    "**Function Call**"
   ]
  },
  {
   "cell_type": "code",
   "execution_count": 94,
   "metadata": {
    "colab": {},
    "colab_type": "code",
    "id": "IPeV9Re1Qmmg"
   },
   "outputs": [
    {
     "name": "stdout",
     "output_type": "stream",
     "text": [
      "50\n"
     ]
    }
   ],
   "source": [
    "num_1 = 27\n",
    "num_2 = 23\n",
    "print (sum(num_1,num_2)) #Notice how the two numbers are passed into the 'sum' function"
   ]
  },
  {
   "cell_type": "markdown",
   "metadata": {
    "colab_type": "text",
    "id": "eFIsmmSyQmmy"
   },
   "source": [
    "**Functions can be user-defined or built-in. Can you point out an example of each?**"
   ]
  },
  {
   "cell_type": "code",
   "execution_count": 95,
   "metadata": {
    "colab": {},
    "colab_type": "code",
    "id": "_4AIxWThQmmy"
   },
   "outputs": [],
   "source": [
    "#write your answer here"
   ]
  },
  {
   "cell_type": "markdown",
   "metadata": {
    "colab_type": "text",
    "id": "nNxeCJXPQmm3"
   },
   "source": [
    "**Write a function in Python to convert celsius Scale to Fahrenheit Scale**"
   ]
  },
  {
   "cell_type": "code",
   "execution_count": 96,
   "metadata": {
    "colab": {},
    "colab_type": "code",
    "id": "WzdfRNcZQmm3"
   },
   "outputs": [],
   "source": [
    "#Write your answer here"
   ]
  }
 ],
 "metadata": {
  "colab": {
   "collapsed_sections": [],
   "name": "[Jupyter - Youth] Module 9 Introduction to Python.ipynb",
   "provenance": []
  },
  "kernelspec": {
   "display_name": "Python 3 (ipykernel)",
   "language": "python",
   "name": "python3"
  },
  "language_info": {
   "codemirror_mode": {
    "name": "ipython",
    "version": 3
   },
   "file_extension": ".py",
   "mimetype": "text/x-python",
   "name": "python",
   "nbconvert_exporter": "python",
   "pygments_lexer": "ipython3",
   "version": "3.8.8"
  },
  "toc": {
   "base_numbering": 1,
   "nav_menu": {},
   "number_sections": true,
   "sideBar": true,
   "skip_h1_title": false,
   "title_cell": "Table of Contents",
   "title_sidebar": "Contents",
   "toc_cell": false,
   "toc_position": {},
   "toc_section_display": true,
   "toc_window_display": true
  }
 },
 "nbformat": 4,
 "nbformat_minor": 1
}
