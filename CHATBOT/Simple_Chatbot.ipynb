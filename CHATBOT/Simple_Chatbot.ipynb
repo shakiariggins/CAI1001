{
  "nbformat": 4,
  "nbformat_minor": 0,
  "metadata": {
    "colab": {
      "name": "Simple_Chatbot.ipynb",
      "provenance": [],
      "collapsed_sections": []
    },
    "kernelspec": {
      "name": "python3",
      "display_name": "Python 3"
    },
    "language_info": {
      "name": "python"
    }
  },
  "cells": [
    {
      "cell_type": "code",
      "metadata": {
        "id": "E81hQCKNDnB1"
      },
      "source": [
        "import nltk\n",
        "import numpy as np\n",
        "import random\n",
        "import string # to process standard python strings"
      ],
      "execution_count": null,
      "outputs": []
    },
    {
      "cell_type": "code",
      "metadata": {
        "colab": {
          "base_uri": "https://localhost:8080/"
        },
        "id": "HEEJ-c8DDnk-",
        "outputId": "777f5a02-1b22-4a17-863b-0556b0287cc0"
      },
      "source": [
        "f=open('chatbots.txt','r',errors = 'ignore')\n",
        "raw=f.read()\n",
        "raw=raw.lower()# converts to lowercase\n",
        "nltk.download('punkt') # first-time use only\n",
        "nltk.download('wordnet') # first-time use only\n",
        "sent_tokens = nltk.sent_tokenize(raw)# converts to list of sentences \n",
        "word_tokens = nltk.word_tokenize(raw)# converts to list of words"
      ],
      "execution_count": null,
      "outputs": [
        {
          "output_type": "stream",
          "text": [
            "[nltk_data] Downloading package punkt to /root/nltk_data...\n",
            "[nltk_data]   Unzipping tokenizers/punkt.zip.\n",
            "[nltk_data] Downloading package wordnet to /root/nltk_data...\n",
            "[nltk_data]   Unzipping corpora/wordnet.zip.\n"
          ],
          "name": "stdout"
        }
      ]
    },
    {
      "cell_type": "code",
      "metadata": {
        "colab": {
          "base_uri": "https://localhost:8080/"
        },
        "id": "y_w-fvmMDswJ",
        "outputId": "2d7becd6-04d4-47a0-8125-56fa29e26d82"
      },
      "source": [
        "sent_tokens"
      ],
      "execution_count": null,
      "outputs": [
        {
          "output_type": "execute_result",
          "data": {
            "text/plain": [
              "['a chatbot is a software application used to conduct an on-line chat conversation via text or text-to-speech, in lieu of providing direct contact with a live human agent.',\n",
              " '[1] a chatbot is a type of software that can automate conversations and interact with people through messaging platforms.',\n",
              " '[2] designed to convincingly simulate the way a human would behave as a conversational partner, chatbot systems typically require continuous tuning and testing, and many in production remain unable to adequately converse or pass the industry standard turing test.',\n",
              " '[3] the term \"chatterbot\" was originally coined by michael mauldin (creator of the first verbot) in 1994 to describe these conversational programs.',\n",
              " '[4]\\n\\nchatbots are used in dialog systems for various purposes including customer service, request routing, or information gathering.',\n",
              " 'while some chatbot applications use extensive word-classification processes, natural language processors, and sophisticated ai, others simply scan for general keywords and generate responses using common phrases obtained from an associated library or database.',\n",
              " 'most chatbots are accessed on-line via website popups or through virtual assistants.',\n",
              " 'they can be classified into usage categories that include: commerce (e-commerce via chat), education, entertainment, finance, health, news, and productivity.',\n",
              " '[5]\\n\\n\\n\\nin 1950, alan turing\\'s famous article \"computing machinery and intelligence\" was published,[6] which proposed what is now called the turing test as a criterion of intelligence.',\n",
              " 'this criterion depends on the ability of a computer program to impersonate a human in a real-time written conversation with a human judge to the extent that the judge is unable to distinguish reliably—on the basis of the conversational content alone—between the program and a real human.',\n",
              " \"the notoriety of turing's proposed test stimulated great interest in joseph weizenbaum's program eliza, published in 1966, which seemed to be able to fool users into believing that they were conversing with a real human.\",\n",
              " 'however weizenbaum himself did not claim that eliza was genuinely intelligent, and the introduction to his paper presented it more as a debunking exercise:\\n\\n[in] artificial intelligence ... machines are made to behave in wondrous ways, often sufficient to dazzle even the most experienced observer.',\n",
              " 'but once a particular program is unmasked, once its inner workings are explained ... its magic crumbles away; it stands revealed as a mere collection of procedures ... the observer says to himself \"i could have written that\".',\n",
              " 'with that thought, he moves the program in question from the shelf marked \"intelligent\", to that reserved for curios ... the object of this paper is to cause just such a re-evaluation of the program about to be \"explained\".',\n",
              " 'few programs ever needed it more.',\n",
              " \"[7]\\n\\neliza's key method of operation (copied by chatbot designers ever since) involves the recognition of clue words or phrases in the input, and the output of the corresponding pre-prepared or pre-programmed responses that can move the conversation forward in an apparently meaningful way (e.g.\",\n",
              " \"by responding to any input that contains the word 'mother' with 'tell me more about your family').\",\n",
              " '[8] thus an illusion of understanding is generated, even though the processing involved has been merely superficial.',\n",
              " 'eliza showed that such an illusion is surprisingly easy to generate because human judges are so ready to give the benefit of the doubt when conversational responses are capable of being interpreted as \"intelligent\".',\n",
              " \"interface designers have come to appreciate that humans' readiness to interpret computer output as genuinely conversational—even when it is actually based on rather simple pattern-matching—can be exploited for useful purposes.\",\n",
              " 'most people prefer to engage with programs that are human-like, and this gives chatbot-style techniques a potentially useful role in interactive systems that need to elicit information from users, as long as that information is relatively straightforward and falls into predictable categories.',\n",
              " 'thus, for example, online help systems can usefully employ chatbot techniques to identify the area of help that users require, potentially providing a \"friendlier\" interface than a more formal search or menu system.',\n",
              " 'this sort of usage holds the prospect of moving chatbot technology from weizenbaum\\'s \"shelf ... reserved for curios\" to that marked \"genuinely useful computational methods\".',\n",
              " 'development\\namong the most notable early chatbots are eliza (1966) and parry (1972).',\n",
              " '[9][10][11][12] more recent notable programs include a.l.i.c.e., jabberwacky and d.u.d.e (agence nationale de la recherche and cnrs 2006).',\n",
              " 'while eliza and parry were used exclusively to simulate typed conversation, many chatbots now include other functional features, such as games and web searching abilities.',\n",
              " \"in 1984, a book called the policeman's beard is half constructed was published, allegedly written by the chatbot racter (though the program as released would not have been capable of doing so).\",\n",
              " '[13]\\n\\none pertinent field of ai research is natural language processing.',\n",
              " 'usually, weak ai fields employ specialized software or programming languages created specifically for the narrow function required.',\n",
              " 'for example, a.l.i.c.e.',\n",
              " 'uses a markup language called aiml, which is specific to its function as a conversational agent, and has since been adopted by various other developers of, so-called, alicebots.',\n",
              " 'nevertheless, a.l.i.c.e.',\n",
              " 'is still purely based on pattern matching techniques without any reasoning capabilities, the same technique eliza was using back in 1966. this is not strong ai, which would require sapience and logical reasoning abilities.',\n",
              " 'jabberwacky learns new responses and context based on real-time user interactions, rather than being driven from a static database.',\n",
              " 'some more recent chatbots also combine real-time learning with evolutionary algorithms that optimize their ability to communicate based on each conversation held.',\n",
              " 'still, there is currently no general purpose conversational artificial intelligence, and some software developers focus on the practical aspect, information retrieval.',\n",
              " 'chatbot competitions focus on the turing test or more specific goals.',\n",
              " 'two such annual contests are the loebner prize and the chatterbox challenge (the latter has been offline since 2015, however, materials can still be found from web archives).',\n",
              " '[14]\\n\\ndbpedia created a chatbot during the gsoc of 2017.',\n",
              " '[15][16][17] and can communicate through facebook messenger.',\n",
              " \"application\\nsee also: virtual assistant\\nmessaging apps\\nmany companies' chatbots run on messaging apps or simply via sms.\",\n",
              " 'they are used for b2c customer service, sales and marketing.',\n",
              " '[18]\\n\\nin 2016, facebook messenger allowed developers to place chatbots on their platform.',\n",
              " 'there were 30,000 bots created for messenger in the first six months, rising to 100,000 by september 2017.',\n",
              " '[19]\\n\\nsince september 2017, this has also been as part of a pilot program on whatsapp.',\n",
              " 'airlines klm and aeroméxico both announced their participation in the testing;[20][21][22][23] both airlines had previously launched customer services on the facebook messenger platform.',\n",
              " \"the bots usually appear as one of the user's contacts, but can sometimes act as participants in a group chat.\",\n",
              " 'many banks, insurers, media companies, e-commerce companies, airlines, hotel chains, retailers, health care providers, government entities and restaurant chains have used chatbots to answer simple questions, increase customer engagement,[24] for promotion, and to offer additional ways to order from them.',\n",
              " '[25][26]\\n\\na 2017 study showed 4% of companies used chatbots.',\n",
              " '[27] according to a 2016 study, 80% of businesses said they intended to have one by 2020.',\n",
              " '[28]\\n\\nas part of company apps and websites\\nprevious generations of chatbots were present on company websites, e.g.',\n",
              " \"ask jenn from alaska airlines which debuted in 2008[29] or expedia's virtual customer service agent which launched in 2011.\",\n",
              " '[29][30] the newer generation of chatbots includes ibm watson-powered \"rocky\", introduced in february 2017 by the new york city-based e-commerce company rare carat to provide information to prospective diamond buyers.',\n",
              " '[31][32]\\n\\nchatbot sequences\\nused by marketers to script sequences of messages, very similar to an autoresponder sequence.',\n",
              " 'such sequences can be triggered by user opt-in or the use of keywords within user interactions.',\n",
              " 'after a trigger occurs a sequence of messages is delivered until the next anticipated user response.',\n",
              " 'each user response is used in the decision tree to help the chatbot navigate the response sequences to deliver the correct response message.',\n",
              " 'company internal platforms\\nother companies explore ways they can use chatbots internally, for example for customer support, human resources, or even in internet-of-things (iot) projects.',\n",
              " 'overstock.com, for one, has reportedly launched a chatbot named mila to automate certain simple yet time-consuming processes when requesting sick leave.',\n",
              " '[33] other large companies such as lloyds banking group, royal bank of scotland, renault and citroën are now using automated online assistants instead of call centres with humans to provide a first point of contact.',\n",
              " \"a saas chatbot business ecosystem has been steadily growing since the f8 conference when facebook's mark zuckerberg unveiled that messenger would allow chatbots into the app.\",\n",
              " '[34] in large companies, like in hospitals and aviation organizations, it architects are designing reference architectures for intelligent chatbots that are used to unlock and share knowledge and experience in the organization more efficiently, and reduce the errors in answers from expert service desks significantly.',\n",
              " '[35] these intelligent chatbots make use of all kinds of artificial intelligence like image moderation and natural language understanding (nlu), natural language generation (nlg), machine learning and deep learning.',\n",
              " 'customer service\\nmany high-tech banking organizations are looking to integrate automated ai-based solutions such as chatbots into their customer service in order to provide faster and cheaper assistance to their clients who are becoming increasingly comfortable with technology.',\n",
              " 'in particular, chatbots can efficiently conduct a dialogue, usually replacing other communication tools such as email, phone, or sms.',\n",
              " 'in banking, their major application is related to quick customer service answering common requests, as well as transactional support.',\n",
              " 'several studies report significant reduction in the cost of customer services, expected to lead to billions of dollars of economic savings in the next ten years.',\n",
              " '[36] in 2019, gartner predicted that by 2021, 15% of all customer service interactions globally will be handled completely by ai.',\n",
              " '[37] a study by juniper research in 2019 estimates retail sales resulting from chatbot-based interactions will reach $112 billion by 2023.',\n",
              " '[38]\\n\\nsince 2016, when facebook allowed businesses to deliver automated customer support, e-commerce guidance, content, and interactive experiences through chatbots, a large variety of chatbots were developed for the facebook messenger platform.',\n",
              " \"[39]\\n\\nin 2016, russia-based tochka bank launched the world's first facebook bot for a range of financial services, including a possibility of making payments.\",\n",
              " '[40]\\n\\nin july 2016, barclays africa also launched a facebook chatbot, making it the first bank to do so in africa.',\n",
              " \"[41]\\n\\nthe france's third-largest bank by total assets[42] société générale launched their chatbot called sobot in march 2018. while 80% of users of the sobot expressed their satisfaction after having tested it, société générale deputy director bertrand cozzarolo stated that it will never replace the expertise provided by a human advisor.\",\n",
              " '[43]\\n\\nthe advantages of using chatbots for customer interactions in banking include cost reduction, financial advice, and 24/7 support.',\n",
              " '[44][45]\\n\\nhealthcare\\nsee also: artificial intelligence in healthcare\\nchatbots are also appearing in the healthcare industry.',\n",
              " '[46][47][48] a study suggested that physicians in the united states believed that chatbots would be most beneficial for scheduling doctor appointments, locating health clinics, or providing medication information.',\n",
              " '[49]\\n\\nwhatsapp has tied up with the world health organisation (who) to make a chatbot service that answers users’ questions on covid-19.',\n",
              " '[50]\\n\\nthe indian government recently launched a chatbot called mygov corona helpdesk,[51] that works through whatsapp and helps people access information about the coronavirus (covid-19) pandemic.',\n",
              " '[52][53]\\n\\ncertain patient groups are still reluctant to use chatbots.',\n",
              " 'a mixed-methods study showed that people are still hesitant to use chatbots for their healthcare due to poor understanding of the technological complexity, the lack of empathy, and concerns about cyber-security.',\n",
              " '[54] the analysis showed that while 6% had heard of a health chatbot and 3% had experience of using it, 67% perceived themselves as likely to use one within 12 months.',\n",
              " 'the majority of participants would use a health chatbot for seeking general health information (78%), booking a medical appointment (78%), and looking for local health services (80%).',\n",
              " 'however, a health chatbot was perceived as less suitable for seeking results of medical tests and seeking specialist advice such as sexual health.',\n",
              " 'the analysis of attitudinal variables showed that most participants reported their preference for discussing their health with doctors (73%) and having access to reliable and accurate health information (93%).',\n",
              " 'while 80% were curious about new technologies that could improve their health, 66% reported only seeking a doctor when experiencing a health problem and 65% thought that a chatbot was a good idea.',\n",
              " 'interestingly, 30% reported dislike about talking to computers, 41% felt it would be strange to discuss health matters with a chatbot and about half were unsure if they could trust the advice given by a chatbot.',\n",
              " 'therefore, perceived trustworthiness, individual attitudes towards bots, and dislike for talking to computers are the main barriers to health chatbots.',\n",
              " 'politics\\nsee also: government by algorithm § ai politicians\\nin new zealand, the chatbot sam – short for semantic analysis machine[55] (made by nick gerritsen of touchtech[56]) – has been developed.',\n",
              " 'it is designed to share its political thoughts, for example on topics such as climate change, healthcare and education, etc.',\n",
              " 'it talks to people through facebook messenger.',\n",
              " '[57][58][59][60]\\n\\nin india, the state government has launched a chatbot for its aaple sarkar platform,[61] which provides conversational access to information regarding public services managed.',\n",
              " '[62][63]\\n\\ntoys\\nchatbots have also been incorporated into devices not primarily meant for computing, such as toys.',\n",
              " '[64]\\n\\nhello barbie is an internet-connected version of the doll that uses a chatbot provided by the company toytalk,[65] which previously used the chatbot for a range of smartphone-based characters for children.',\n",
              " \"[66] these characters' behaviors are constrained by a set of rules that in effect emulate a particular character and produce a storyline.\",\n",
              " \"[67]\\n\\nthe my friend cayla doll was marketed as a line of 18-inch (46 cm) dolls which uses speech recognition technology in conjunction with an android or ios mobile app to recognize the child's speech and have a conversation.\",\n",
              " \"it, like the hello barbie doll, attracted controversy due to vulnerabilities with the doll's bluetooth stack and its use of data collected from the child's speech.\",\n",
              " \"ibm's watson computer has been used as the basis for chatbot-based educational toys for companies such as cognitoys[64] intended to interact with children for educational purposes.\",\n",
              " '[68]\\n\\nmalicious use\\nmalicious chatbots are frequently used to fill chat rooms with spam and advertisements, by mimicking human behavior and conversations or to entice people into revealing personal information, such as bank account numbers.',\n",
              " 'they were commonly found on yahoo!',\n",
              " 'messenger, windows live messenger, aol instant messenger and other instant messaging protocols.',\n",
              " \"there has also been a published report of a chatbot used in a fake personal ad on a dating service's website.\",\n",
              " '[69]\\n\\ntay, an ai chatbot that learns from previous interaction, caused major controversy due to it being targeted by internet trolls on twitter.',\n",
              " 'the bot was exploited, and after 16 hours began to send extremely offensive tweets to users.',\n",
              " 'this suggests that although the bot learned effectively from experience, adequate protection was not put in place to prevent misuse.',\n",
              " '[70]\\n\\nif a text-sending algorithm can pass itself off as a human instead of a chatbot, its message would be more credible.',\n",
              " 'therefore, human-seeming chatbots with well-crafted online identities could start scattering fake news that seems plausible, for instance making false claims during a presidential election.',\n",
              " 'with enough chatbots, it might be even possible to achieve artificial social proof.',\n",
              " '[71][72]\\n\\nlimitations of chatbots\\nthe creation and implementation of chatbots is still a developing area, heavily related to artificial intelligence and machine learning, so the provided solutions, while possessing obvious advantages, have some important limitations in terms of functionalities and use cases.',\n",
              " 'however, this is changing over time.',\n",
              " 'the most common ones are listed below:[73]\\n\\nas the database, used for output generation, is fixed and limited, chatbots can fail while dealing with an unsaved query.',\n",
              " \"[45]\\na chatbot's efficiency highly depends on language processing and is limited because of irregularities, such as accents and mistakes.\",\n",
              " 'chatbots are unable to deal with multiple questions at the same time and so conversation opportunities are limited.',\n",
              " '[73]\\nchatbots require a large amount of conversational data to train.',\n",
              " 'chatbots have difficulty managing non-linear conversations that must go back and forth on a topic with a user [74]\\nas it happens usually with technology-led changes in existing services, some consumers, more often than not from the old generation, are uncomfortable with chatbots due to their limited understanding, making it obvious that their requests are being dealt with by machines.',\n",
              " '[73]\\nchatbots and jobs\\nchatbots are increasingly present in businesses and often are used to automate tasks that do not require skill-based talents.',\n",
              " 'with customer service taking place via messaging apps as well as phone calls, there are growing numbers of use-cases where chatbot deployment gives organizations a clear return on investment.',\n",
              " 'call center workers may be particularly at risk from ai-driven chatbots.',\n",
              " '[75]\\n\\na study by forrester (june 2017) predicted that 25% of all jobs will be impacted by ai technologies by 2019.',\n",
              " '[76] this claim proved unfounded.']"
            ]
          },
          "metadata": {
            "tags": []
          },
          "execution_count": 4
        }
      ]
    },
    {
      "cell_type": "code",
      "metadata": {
        "id": "eCbII6aMDxYE"
      },
      "source": [
        "lemmer = nltk.stem.WordNetLemmatizer()\n",
        "#WordNet is a semantically-oriented dictionary of English included in NLTK.\n",
        "def LemTokens(tokens):\n",
        "    return [lemmer.lemmatize(token) for token in tokens]\n",
        "remove_punct_dict = dict((ord(punct), None) for punct in string.punctuation)\n",
        "def LemNormalize(text):\n",
        "    return LemTokens(nltk.word_tokenize(text.lower().translate(remove_punct_dict)))"
      ],
      "execution_count": null,
      "outputs": []
    },
    {
      "cell_type": "code",
      "metadata": {
        "id": "P-wTrCAHD5tn"
      },
      "source": [
        "GREETING_INPUTS = (\"hello\", \"hi\", \"greetings\", \"sup\", \"what's up\",\"hey\",)\n",
        "GREETING_RESPONSES = [\"hi\", \"hey\", \"*nods*\", \"hi there\", \"hello\", \"I am glad! You are talking to me\"]\n",
        "def greeting(sentence):\n",
        "    for word in sentence.split():\n",
        "        if word.lower() in GREETING_INPUTS:\n",
        "            return random.choice(GREETING_RESPONSES)"
      ],
      "execution_count": null,
      "outputs": []
    },
    {
      "cell_type": "code",
      "metadata": {
        "id": "oOB9AWFVD8Ev"
      },
      "source": [
        "from sklearn.feature_extraction.text import TfidfVectorizer\n",
        "from sklearn.metrics.pairwise import cosine_similarity\n"
      ],
      "execution_count": null,
      "outputs": []
    },
    {
      "cell_type": "code",
      "metadata": {
        "id": "bP2ilV5TD96p"
      },
      "source": [
        "def response(user_response):\n",
        "    robo_response=''\n",
        "    sent_tokens.append(user_response)\n",
        "    TfidfVec = TfidfVectorizer(tokenizer=LemNormalize, stop_words='english')\n",
        "    tfidf = TfidfVec.fit_transform(sent_tokens)\n",
        "    vals = cosine_similarity(tfidf[-1], tfidf)\n",
        "    idx=vals.argsort()[0][-2]\n",
        "    flat = vals.flatten()\n",
        "    flat.sort()\n",
        "    req_tfidf = flat[-2]\n",
        "    if(req_tfidf==0):\n",
        "        robo_response=robo_response+\"I am sorry! I don't understand you\"\n",
        "        return robo_response\n",
        "    else:\n",
        "        robo_response = robo_response+sent_tokens[idx]\n",
        "        return robo_response"
      ],
      "execution_count": null,
      "outputs": []
    },
    {
      "cell_type": "code",
      "metadata": {
        "colab": {
          "base_uri": "https://localhost:8080/"
        },
        "id": "7SNZtFESEBgV",
        "outputId": "e21bafdc-d467-4806-bc0a-4861132b4cfd"
      },
      "source": [
        "flag=True\n",
        "print(\"Hi. I will answer your queries about Chatbots. To exit, type Bye!\")\n",
        "while(flag==True):\n",
        "    user_response = input()\n",
        "    user_response=user_response.lower()\n",
        "    if(user_response!='bye'):\n",
        "        if(user_response=='thanks' or user_response=='thank you' ):\n",
        "            flag=False\n",
        "            print(\"ROBO: You are welcome..\")\n",
        "        else:\n",
        "            if(greeting(user_response)!=None):\n",
        "                print(\"ROBO: \"+greeting(user_response))\n",
        "            else:\n",
        "                print(\"ROBO: \",end=\"\")\n",
        "                print(response(user_response))\n",
        "                sent_tokens.remove(user_response)\n",
        "    else:\n",
        "        flag=False\n",
        "        print(\"ROBO: Bye! \")"
      ],
      "execution_count": null,
      "outputs": [
        {
          "output_type": "stream",
          "text": [
            "ROBO: My name is Robo. I will answer your queries about Chatbots. If you want to exit, type Bye!\n",
            "hi\n",
            "ROBO: I am glad! You are talking to me\n",
            "bye\n",
            "ROBO: Bye! take care..\n"
          ],
          "name": "stdout"
        }
      ]
    },
    {
      "cell_type": "markdown",
      "metadata": {
        "id": "6yC8Bl-_dpqR"
      },
      "source": [
        "# Challenge\n",
        "\n",
        "We have successfully built our first chatbot. \n",
        "Your challenge is to now change this chatbot. For our example, we used the Wikipedia page for chatbots as our corpus. Now use the information from this page: https://www.chatcompose.com/what-are-chatbots.html as the chatbot corpus and retrain your chatbot. Also, in the main while loop for the chatbot, include addition cases to generate a reply when the user asks about the weather. You can use simple if-else clauses for this purpose.\n"
      ]
    },
    {
      "cell_type": "code",
      "metadata": {
        "id": "4fKtFJK0EDrE"
      },
      "source": [
        ""
      ],
      "execution_count": null,
      "outputs": []
    }
  ]
}