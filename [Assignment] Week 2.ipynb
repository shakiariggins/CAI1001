{
 "cells": [
  {
   "cell_type": "markdown",
   "id": "d8941ef7",
   "metadata": {},
   "source": [
    "## Assignment"
   ]
  },
  {
   "cell_type": "markdown",
   "id": "76a1a494",
   "metadata": {},
   "source": [
    "Let's say we are interested in the weather, in the data from Open Government Data and we have obtained a file called (JaipurFinalCleanData.csv)\n",
    "\n",
    "A Comma-Separated Value or csv file, as the name implies contains a set of data separated by commas. Files like these would be familiar to users of Spreadsheet software like Excel or Google Sheets.\n",
    "\n",
    "In this example, we will open a csv file in Python, and load it into a DataFrame.\n",
    "\n",
    "Try loading the file, and follow the rest of the exercise. Use your friend, the search engine, and find a way to load your file into Colab!"
   ]
  },
  {
   "cell_type": "code",
   "execution_count": 1,
   "id": "f84cfec9",
   "metadata": {},
   "outputs": [],
   "source": [
    "#If you are performing this task locally using Anaconda for example, the file(csv) should be in same the folder as this notebook. \n",
    "\n",
    "#This example is expected to have errors without the file being uploaded.\n",
    "\n",
    "\n",
    "#First, create a variable we will call the DataFrame from the stored location.\n",
    "\n",
    "#Print the first five rows of DataFrame to understand data.\n"
   ]
  },
  {
   "cell_type": "code",
   "execution_count": 2,
   "id": "154c9f18",
   "metadata": {},
   "outputs": [],
   "source": [
    "#Try to display more data.\n"
   ]
  },
  {
   "cell_type": "code",
   "execution_count": 3,
   "id": "cd97123d",
   "metadata": {},
   "outputs": [],
   "source": [
    "# Try to visualize the data."
   ]
  },
  {
   "cell_type": "code",
   "execution_count": null,
   "id": "9953522c",
   "metadata": {},
   "outputs": [],
   "source": []
  }
 ],
 "metadata": {
  "kernelspec": {
   "display_name": "Python 3 (ipykernel)",
   "language": "python",
   "name": "python3"
  },
  "language_info": {
   "codemirror_mode": {
    "name": "ipython",
    "version": 3
   },
   "file_extension": ".py",
   "mimetype": "text/x-python",
   "name": "python",
   "nbconvert_exporter": "python",
   "pygments_lexer": "ipython3",
   "version": "3.9.7"
  },
  "toc": {
   "base_numbering": 1,
   "nav_menu": {},
   "number_sections": true,
   "sideBar": true,
   "skip_h1_title": false,
   "title_cell": "Table of Contents",
   "title_sidebar": "Contents",
   "toc_cell": false,
   "toc_position": {},
   "toc_section_display": true,
   "toc_window_display": false
  }
 },
 "nbformat": 4,
 "nbformat_minor": 5
}
